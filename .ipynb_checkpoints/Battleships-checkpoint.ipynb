{
 "cells": [
  {
   "cell_type": "markdown",
   "id": "f5a4ce30",
   "metadata": {},
   "source": [
    "# Battleships"
   ]
  },
  {
   "cell_type": "markdown",
   "id": "b84449e0",
   "metadata": {},
   "source": [
    "## Planning"
   ]
  },
  {
   "cell_type": "markdown",
   "id": "15ef5a51",
   "metadata": {},
   "source": [
    "- standard version & extended version (if we have time)\n",
    "    - standard\n",
    "        - normal rules\n",
    "        - 2 human players\n",
    "        - basic display (jupyter output)\n",
    "    - extended\n",
    "        - graphics display (turtle?)\n",
    "        - hard mode (\"Salvo\")\n",
    "        - computer player\n",
    "            - random guess\n",
    "            - if last guess == hit, random guess within closer range...\n",
    "        - different size board\n",
    "        - different size ships(?)\n"
   ]
  },
  {
   "cell_type": "markdown",
   "id": "e3df0e45",
   "metadata": {},
   "source": [
    "Standard:\n",
    "\n",
    "- board\n",
    "    - 10x10\n",
    "    - 4 boards (player_1_sea, player_1_radar, player_2_sea, player_2_radar)\n",
    "\n",
    "- ships\n",
    "    - number/size has to make sense for the board dimensions\n",
    "    - standard:\n",
    "        - Carrier (5)\n",
    "        - Battelship (4)\n",
    "        - Cruiser (3)\n",
    "        - Submarine (3)\n",
    "        - Destroyer (2)\n",
    "\n",
    "- turn\n",
    "    - guess one coordinate on board\n",
    "        - outputs result (miss / hit + ship if hit)\n",
    "            - sunk if ship gone\n",
    "        - displays new board (updated pegs)\n",
    "\n",
    "- display\n",
    "    - can only see your board"
   ]
  },
  {
   "cell_type": "markdown",
   "id": "252c02fc",
   "metadata": {},
   "source": [
    "Functions:\n",
    "\n",
    "- display_board\n",
    "    - input lists\n",
    "    - output (print) sea and radar\n",
    "\n",
    "- player_names\n",
    "    - input string\n",
    "\n",
    "- place_ships\n",
    "    - choose ship\n",
    "    - choose starting coordinate\n",
    "    - choose direction (udlr)\n",
    "    - calls check_space_free (iterates for all coords in selection)\n",
    "    - updates ship variables\n",
    "\n",
    "- update board\n",
    "\n",
    "- check_space_free\n",
    "\n",
    "- choose_first_player\n",
    "    - random (0, 1)\n",
    "\n",
    "- fire_shot\n",
    "    - choose location to fire at\n",
    "    - update board/list\n",
    "\n",
    "- check_hit\n",
    "    - returns result of shot\n",
    "    - update ship count\n",
    "\n",
    "- check_ship_status\n",
    "    - checks if \n",
    "\n",
    "- save_shot\n",
    "    - remove available firing locations\n",
    "    - decide whether can play in same square again\n",
    "\n",
    "- ready_for_turn\n",
    "    - when turn ended, hide board\n",
    "    - ask if ready\n",
    "    - when ready, show other player board\n",
    "\n",
    "- winning_condition\n",
    "    - ship count == 0\n",
    "\n",
    "- replay"
   ]
  },
  {
   "cell_type": "markdown",
   "id": "95ef7483",
   "metadata": {},
   "source": [
    "Game Logic\n",
    "\n",
    "- initiate empty board\n",
    "- ask for player names\n",
    "- decide who goes first\n",
    "\n",
    "- player 1 places ships\n",
    "    - display_board per ship placed\n",
    "    - ready_for_turn\n",
    "- player 2 places ships\n",
    "    - display_board per ship placed\n",
    "    - ready_for_turn\n",
    "\n",
    "- while not winning_condition:\n",
    "    - player 1 fire_shot\n",
    "        - display board\n",
    "        - (update board)\n",
    "        - check_hit\n",
    "        - check_ship_status\n",
    "        - check winning_condition\n",
    "        - display board\n",
    "        - ready_for_turn\n",
    "    - player 2 fire_shot (same logic as player 1)\n",
    "\n",
    "- display result\n",
    "    - display both boards (?)\n",
    "\n",
    "- ask for replay"
   ]
  },
  {
   "cell_type": "markdown",
   "id": "8a3a78f6",
   "metadata": {},
   "source": [
    "## Functions"
   ]
  },
  {
   "cell_type": "code",
   "execution_count": 13,
   "id": "26e809cc-9def-44e4-8cf9-a76b06e429ce",
   "metadata": {},
   "outputs": [],
   "source": [
    "# Library imports\n",
    "import random\n",
    "from IPython.display import clear_output\n",
    "import ipywidgets as widgets\n"
   ]
  },
  {
   "cell_type": "code",
   "execution_count": 61,
   "id": "5ee56d57",
   "metadata": {},
   "outputs": [],
   "source": [
    "# Initial variables\n",
    "\n",
    "letters = [\"A\",\"B\",\"C\",\"D\",\"E\",\"F\",\"G\",\"H\",\"I\",\"J\"]\n",
    "\n",
    "# Radar squares\n",
    "radar_empty = \"   \"\n",
    "radar_boats = [\" D \", \" C \", \" S \", \" B \", \" A \"]\n",
    "radar_hit = \" x \"\n",
    "radar_miss = \" o \"\n",
    "\n",
    "# Sea squares\n",
    "sea_empty = \"~~~\"\n",
    "sea_boats = [\"~D~\", \"~C~\", \"~S~\", \"~B~\", \"~A~\"]\n",
    "sea_hit = \"~x~\"\n",
    "sea_miss = \"~o~\"\n",
    "\n",
    "# Boat types\n",
    "boat_types = {\"Aircraft carrier (A)\" : (5, \"~A~\"), \n",
    "              \"Battleship (B)\" : (4, \"~B~\"), \n",
    "              \"Submarine (S)\" : (3, \"~S~\"), \n",
    "              \"Cruiser (C)\" : (3, \"~C~\"), \n",
    "              \"Destroyer (D)\" : (2, \"~D~\")}\n",
    "\n",
    "\n",
    "player_1_sunk_boats = []\n",
    "player_2_sunk_boats = []\n",
    "\n",
    "\n",
    "# Lists of player boat locations\n",
    "player_1_boat_coords = []\n",
    "player_2_boat_coords = []\n",
    "\n",
    "# To be included in game logic?\n",
    "sea_lst_p1 = [sea_empty] * 101  \n",
    "radar_lst_p1 = [radar_empty] * 101\n",
    "sea_lst_p2 = [sea_empty] * 101  \n",
    "radar_lst_p2 = [radar_empty] * 101\n",
    "\n",
    "# Lists of past guesses\n",
    "player_1_guesses = []\n",
    "player_2_guesses = []"
   ]
  },
  {
   "cell_type": "code",
   "execution_count": 15,
   "id": "ccb42a41-1ef1-41fe-9048-94cdcddce56e",
   "metadata": {},
   "outputs": [
    {
     "data": {
      "text/plain": [
       "['Aircraft carrier (A)',\n",
       " 'Battleship (B)',\n",
       " 'Submarine (S)',\n",
       " 'Cruiser (C)',\n",
       " 'Destroyer (D)']"
      ]
     },
     "execution_count": 15,
     "metadata": {},
     "output_type": "execute_result"
    }
   ],
   "source": [
    "player_1_remaining_boats"
   ]
  },
  {
   "cell_type": "code",
   "execution_count": 35,
   "id": "5cfb81d7-047a-445b-bd48-103ed182f5e2",
   "metadata": {},
   "outputs": [],
   "source": [
    "def player_names():\n",
    "    \"\"\"Asks for the names of Players 1 and 2 and returns both in a tuple.\"\"\"\n",
    "    player_1 = input(\"type your name:\")\n",
    "    player_2 = input(\"type your name:\")\n",
    "    return player_1, player_2\n",
    "\n",
    "def choose_first_player():\n",
    "    \"\"\"Randomly selects which player has the first turn. Returns 'p1' or 'p2'.\"\"\"\n",
    "    if random.randint(0,1) == 0:\n",
    "        return \"p1\"\n",
    "    else:\n",
    "        return \"p2\"\n",
    "\n",
    "def display_boards(radar_lst, sea_lst):\n",
    "    \"\"\"Prints the radar_lst and sea_lst lists in the format of Battleships boards, with the letters list\n",
    "    denoting the rows.\"\"\"\n",
    "    \n",
    "    clear_output()\n",
    "    \n",
    "    print(\"Radar zone\\n\")\n",
    "    print(\"     1   2   3   4   5   6   7   8   9   10\")\n",
    "    for index, i in enumerate(radar_lst):\n",
    "        if index == 0:\n",
    "            pass\n",
    "        elif index % 10 == 1:\n",
    "            letter = letters[index//10]\n",
    "            print(f\"{letter}: |{i}\", end = \"\")\n",
    "        elif index % 10 == 0:\n",
    "            print(f\"|{i}|\")\n",
    "        else:\n",
    "            print(f\"|{i}\", end = \"\")\n",
    "            \n",
    "    print(\"\\nSea zone\\n\")\n",
    "    print(\"     1   2   3   4   5   6   7   8   9   10\")\n",
    "    for index, i in enumerate(sea_lst):\n",
    "        if index == 0:\n",
    "            pass\n",
    "        elif index % 10 == 1:\n",
    "            letter = letters[index//10]\n",
    "            print(f\"{letter}: |{i}\", end = \"\")\n",
    "        elif index % 10 == 0:\n",
    "            print(f\"|{i}|\")\n",
    "        else:\n",
    "            print(f\"|{i}\", end = \"\")"
   ]
  },
  {
   "cell_type": "code",
   "execution_count": 17,
   "id": "89d262fa",
   "metadata": {},
   "outputs": [
    {
     "name": "stdout",
     "output_type": "stream",
     "text": [
      "Radar zone\n",
      "\n",
      "     1   2   3   4   5   6   7   8   9   10\n",
      "A: |   |   |   |   |   |   |   |   |   |   |\n",
      "B: |   |   |   |   |   |   |   |   |   |   |\n",
      "C: |   |   |   |   |   |   |   |   |   |   |\n",
      "D: |   |   |   |   |   |   |   |   |   |   |\n",
      "E: |   |   |   |   |   |   |   |   |   |   |\n",
      "F: |   |   |   |   |   |   |   |   |   |   |\n",
      "G: |   |   |   |   |   |   |   |   |   |   |\n",
      "H: |   |   |   |   |   |   |   |   |   |   |\n",
      "I: |   |   |   |   |   |   |   |   |   |   |\n",
      "J: |   |   |   |   |   |   |   |   |   |   |\n",
      "\n",
      "Sea zone\n",
      "\n",
      "     1   2   3   4   5   6   7   8   9   10\n",
      "A: |~~~|~~~|~~~|~~~|~~~|~~~|~~~|~~~|~~~|~~~|\n",
      "B: |~~~|~~~|~~~|~~~|~~~|~~~|~~~|~~~|~~~|~~~|\n",
      "C: |~~~|~~~|~~~|~~~|~~~|~~~|~~~|~~~|~~~|~~~|\n",
      "D: |~~~|~~~|~~~|~~~|~~~|~~~|~~~|~~~|~~~|~~~|\n",
      "E: |~~~|~~~|~~~|~~~|~~~|~~~|~~~|~~~|~~~|~~~|\n",
      "F: |~~~|~B~|~~~|~~~|~~~|~~~|~~~|~~~|~~~|~~~|\n",
      "G: |~~~|~B~|~~~|~~~|~~~|~~~|~~~|~~~|~~~|~~~|\n",
      "H: |~~~|~B~|~~~|~~~|~~~|~~~|~~~|~~~|~~~|~~~|\n",
      "I: |~~~|~B~|~~~|~~~|~~~|~~~|~~~|~~~|~~~|~~~|\n",
      "J: |~~~|~~~|~~~|~~~|~~~|~~~|~~~|~~~|~~~|~~~|\n"
     ]
    }
   ],
   "source": [
    "practice = sea_lst_p1\n",
    "practice[52] = sea_boats[3]\n",
    "practice[62] = sea_boats[3]\n",
    "practice[72] = sea_boats[3]\n",
    "practice[82] = sea_boats[3]\n",
    "\n",
    "display_boards(radar_lst_p1, practice)"
   ]
  },
  {
   "cell_type": "code",
   "execution_count": 18,
   "id": "9acd83c4",
   "metadata": {},
   "outputs": [],
   "source": [
    "def update_board_placement(sea_lst, boat_coords, symbol):\n",
    "    \"\"\"Updates the board after the placement of a boat, taking a list of boat_coords as input.\"\"\"\n",
    "    for coord in boat_coords:\n",
    "        sea_lst[coord] = symbol"
   ]
  },
  {
   "cell_type": "code",
   "execution_count": 19,
   "id": "fcbf8716",
   "metadata": {},
   "outputs": [],
   "source": [
    "def update_board_combat(radar_lst, sea_lst, position, flag):\n",
    "    \"\"\"Taking the position and flag results from a turn, this function updates the radar_lst and \n",
    "    sea_lst lists that make up the board.\"\"\"\n",
    "    radar_lst[position] = flag\n",
    "    sea_lst[position] = flag"
   ]
  },
  {
   "cell_type": "code",
   "execution_count": 20,
   "id": "e3f650c7",
   "metadata": {},
   "outputs": [],
   "source": [
    "def enforce_player_coord(coord):\n",
    "    \"\"\"Ensures a player coordinate input is in the valid 'A1' - 'J10' format. Returns coord once in the correct format.\"\"\"\n",
    "    # Ensure second item in coord is a number\n",
    "    try:\n",
    "        int(coord[1])\n",
    "    except (ValueError, IndexError):\n",
    "        coord = input(\"Enter coordinates (in the format 'A1'): \").upper()\n",
    "\n",
    "    # Ensure coord is 2-3 characters long (and ends in '10') if 3 characters, starts with a letter in letters and\n",
    "    # ends in a number 1-10\n",
    "    while len(coord) > 3 or len(coord) < 2 or \\\n",
    "    (len(coord) == 3 and coord[1:3] != \"10\") or \\\n",
    "    coord[0] not in letters or int(coord[1]) not in range(1, 9):\n",
    "        coord = input(\"Enter coordinates (in the format 'A1'): \").upper()\n",
    "     \n",
    "    return coord.upper()"
   ]
  },
  {
   "cell_type": "code",
   "execution_count": 73,
   "id": "cb649ff2",
   "metadata": {},
   "outputs": [],
   "source": [
    "def fire_shot(player_guesses):\n",
    "    \"\"\"Calls enforce_player_coord() to prompt player to enter a guess and enforce validity.\n",
    "    If coordinates have been guessed by the player already, asks for another guess.\n",
    "    If the guess is valid, adds the guess to player_guesses and returns the \n",
    "    list index ('position') of the player guess.\"\"\"\n",
    "    \n",
    "    guess = \"\"\n",
    "    guess = enforce_player_coord(guess)\n",
    "    \n",
    "    # Checks if guess has already been guessed in a previous turn\n",
    "    while guess in player_guesses:\n",
    "        print(\"Coordinates already guessed!\")\n",
    "        guess = input(\"Enter coordinates (in the format 'A1'): \").upper() \n",
    "    \n",
    "    player_guesses.append(guess) # adds guess to guess history\n",
    "    position = letters.index(guess[0]) * 10 + int(guess[1:])\n",
    "    return position"
   ]
  },
  {
   "cell_type": "code",
   "execution_count": 22,
   "id": "a7d44427",
   "metadata": {},
   "outputs": [
    {
     "name": "stdin",
     "output_type": "stream",
     "text": [
      "Enter coordinates (in the format 'A1'):  D4\n"
     ]
    },
    {
     "name": "stdout",
     "output_type": "stream",
     "text": [
      "['A5', 'G6', 'D4']\n",
      "34\n"
     ]
    }
   ],
   "source": [
    "test_guesses = [\"A5\", \"G6\"]\n",
    "\n",
    "position = fire_shot(test_guesses, letters)\n",
    "\n",
    "print(test_guesses)\n",
    "print(position)"
   ]
  },
  {
   "cell_type": "code",
   "execution_count": 41,
   "id": "aae9f674",
   "metadata": {},
   "outputs": [],
   "source": [
    "def check_space_free(sea_lst, start_coord, direction, length):\n",
    "    \"\"\"Checks if all required spaces for boat placement are free and in range.\n",
    "    Returns coordinates if valid, otherwise returns False.\"\"\"\n",
    "    \n",
    "    # use length of boat and direction to find all coords it will cover\n",
    "    # if any of those coords are not sea empty, return False\n",
    "        # also handle out of range issues\n",
    "    # else return coords\n",
    "\n",
    "    if sea_lst[start_coord] != sea_empty:\n",
    "        return False\n",
    "    \n",
    "    boat_coords = [start_coord]\n",
    "    row = start_coord//10\n",
    "    if start_coord%10 == 0:\n",
    "        row -= 1\n",
    "                \n",
    "    if direction in [\"L\", \"R\"]:\n",
    "        d = 1\n",
    "        if direction == \"L\":\n",
    "            d = -1\n",
    "        for i in range(1, length):\n",
    "            next_coord = start_coord + (i * d)\n",
    "            \n",
    "            if (next_coord - 1) // 10 != row:\n",
    "                return False\n",
    "            elif sea_lst[next_coord] != sea_empty:\n",
    "#                 return \"Sea already occupied here\"\n",
    "                return False\n",
    "            else:\n",
    "                boat_coords.append(next_coord)\n",
    "        return boat_coords\n",
    "    \n",
    "    elif direction in [\"U\", \"D\"]:\n",
    "        d = 1\n",
    "        if direction == \"U\":\n",
    "            d = -1\n",
    "        for i in range(1, length):\n",
    "            next_coord = start_coord + (i * 10 * d)\n",
    "            if next_coord not in range(1, 101):\n",
    "#                 return \"Ship outside board\"\n",
    "                return False\n",
    "            elif sea_lst[next_coord] != sea_empty:\n",
    "#                 return \"Sea already occupied here\"\n",
    "                return False\n",
    "            else:\n",
    "                boat_coords.append(next_coord)\n",
    "        return boat_coords\n",
    "    \n",
    "    else:\n",
    "        return False"
   ]
  },
  {
   "cell_type": "code",
   "execution_count": 24,
   "id": "8f0782d1",
   "metadata": {},
   "outputs": [],
   "source": [
    "def coord_string_to_digit(coord):\n",
    "    return letters.index(coord[0]) * 10 + int(coord[1:])"
   ]
  },
  {
   "cell_type": "code",
   "execution_count": 60,
   "id": "9b759ec8",
   "metadata": {},
   "outputs": [],
   "source": [
    "def place_boats(radar_lst, sea_lst, player_boat_coords):\n",
    "    \"\"\"Prompts user to place boats in descending order of length, by entering starting co-ordinate and direction.\n",
    "    Calls check_space_free() to ensure boat placement is valid - if not, prompts user to place boat elsewhere.\n",
    "    Saves placed boats in player_boats list.\"\"\"\n",
    "    \n",
    "    for boat, data in boat_types.items():\n",
    "        length, symbol = data\n",
    "        coords = \"\"\n",
    "        while not coords:            \n",
    "            start_coord = coord_string_to_digit(enforce_player_coord(input(f\"Enter start coordinate for {boat}: \").upper()))\n",
    "            direction = \"\"\n",
    "            while direction not in [\"U\",\"D\",\"L\",\"R\"]:\n",
    "                direction = input(\"Choose direction (U/D/L/R): \").upper()\n",
    "            coords = check_space_free(sea_lst, start_coord, direction, length)\n",
    "        player_boat_coords.append(coords)\n",
    "        update_board_placement(sea_lst, coords, symbol)\n",
    "        display_boards(radar_lst, sea_lst)"
   ]
  },
  {
   "cell_type": "code",
   "execution_count": 47,
   "id": "fa125330",
   "metadata": {},
   "outputs": [],
   "source": [
    "def check_hit(sea_lst, position):\n",
    "    \"\"\"Takes player guess position and returns True if that position in sea_lst was a boat.\"\"\"\n",
    "    print(sea_lst[position])\n",
    "    if sea_lst[position] in sea_boats:\n",
    "        return True       \n",
    "    else:\n",
    "        return False    "
   ]
  },
  {
   "cell_type": "code",
   "execution_count": 48,
   "id": "26ea472d",
   "metadata": {},
   "outputs": [
    {
     "name": "stdout",
     "output_type": "stream",
     "text": [
      "~~~\n"
     ]
    },
    {
     "data": {
      "text/plain": [
       "False"
      ]
     },
     "execution_count": 48,
     "metadata": {},
     "output_type": "execute_result"
    }
   ],
   "source": [
    "test_guess = 21\n",
    "\n",
    "check_hit(sea_lst_p1, test_guess)"
   ]
  },
  {
   "cell_type": "code",
   "execution_count": 143,
   "id": "aa861d50",
   "metadata": {},
   "outputs": [],
   "source": [
    "def check_ship_status(sea_lst, player_boat_coords, player_sunk_boats):\n",
    "    \"\"\"Checks which ships are destroyed and updates ship count.\"\"\"\n",
    "    for index, boat in enumerate(player_boat_coords):\n",
    "        if all([sea_lst[boat[i]] == sea_hit for i in range(len(boat))]):\n",
    "            player_sunk_boats.append(list(boat_types.keys())[index])\n",
    "            \n",
    "# Have running score on side?"
   ]
  },
  {
   "cell_type": "code",
   "execution_count": 121,
   "id": "21195ef6-4689-4c3c-adbc-6d1dde11ad63",
   "metadata": {},
   "outputs": [
    {
     "data": {
      "text/plain": [
       "[(0, [1, 2, 3, 4, 5]),\n",
       " (1, [15, 16, 17, 18]),\n",
       " (2, [71, 81, 91]),\n",
       " (3, [45, 44, 43]),\n",
       " (4, [70, 60])]"
      ]
     },
     "execution_count": 121,
     "metadata": {},
     "output_type": "execute_result"
    }
   ],
   "source": [
    "list(enumerate(test_player_boats))"
   ]
  },
  {
   "cell_type": "code",
   "execution_count": 126,
   "id": "3a70eee9",
   "metadata": {},
   "outputs": [
    {
     "name": "stdout",
     "output_type": "stream",
     "text": [
      "Radar zone\n",
      "\n",
      "     1   2   3   4   5   6   7   8   9   10\n",
      "A: |   |   |   |   |   |   |   |   |   |   |\n",
      "B: |   |   |   |   |   |   |   |   |   |   |\n",
      "C: |   |   |   |   |   |   |   |   |   |   |\n",
      "D: |   |   |   |   |   |   |   |   |   |   |\n",
      "E: |   |   |   |   |   |   |   |   |   |   |\n",
      "F: |~~~|   |   |   |   |   |   |   |   |~x~|\n",
      "G: |   |   |   |   |   |   |   |   |   |~x~|\n",
      "H: |   |   |   |   |   |   |   |   |   |   |\n",
      "I: |   |   |   |   |   |   |   |   |   |   |\n",
      "J: |   |   |   |   |   |   |   |   |   |   |\n",
      "\n",
      "Sea zone\n",
      "\n",
      "     1   2   3   4   5   6   7   8   9   10\n",
      "A: |~~~|~S~|~S~|~S~|~~~|~~~|~~~|~~~|~~~|~~~|\n",
      "B: |~~~|~~~|~~~|~~~|~~~|~~~|~~~|~~~|~~~|~~~|\n",
      "C: |~~~|~~~|~~~|~~~|~~~|~~~|~~~|~C~|~~~|~~~|\n",
      "D: |~~~|~~~|~~~|~~~|~~~|~~~|~~~|~C~|~~~|~B~|\n",
      "E: |~~~|~~~|~~~|~~~|~~~|~~~|~~~|~C~|~~~|~B~|\n",
      "F: |~~~|~~~|~~~|~~~|~~~|~~~|~~~|~~~|~~~|~B~|\n",
      "G: |~~~|~~~|~~~|~~~|~~~|~~~|~~~|~~~|~~~|~B~|\n",
      "H: |~A~|~A~|~A~|~A~|~A~|~~~|~~~|~~~|~~~|~~~|\n",
      "I: |~~~|~~~|~~~|~~~|~~~|~~~|~~~|~~~|~~~|~~~|\n",
      "J: |~~~|~~~|~~~|~~~|~~~|~~~|~D~|~D~|~~~|~~~|\n"
     ]
    }
   ],
   "source": [
    "test_sea = [sea_empty] * 101  \n",
    "test_player_boats = []\n",
    "\n",
    "place_boats(radar_lst_p1, test_sea, test_player_boats)"
   ]
  },
  {
   "cell_type": "code",
   "execution_count": 127,
   "id": "ad78ae85-c5f0-4fd2-91fd-4859ab96260d",
   "metadata": {},
   "outputs": [],
   "source": [
    "new_sea = test_sea"
   ]
  },
  {
   "cell_type": "code",
   "execution_count": 139,
   "id": "e4c958a7-0b99-48d5-8d44-31a757281574",
   "metadata": {},
   "outputs": [
    {
     "data": {
      "text/plain": [
       "[[71, 72, 73, 74, 75], [70, 60, 50, 40], [2, 3, 4], [28, 38, 48], [97, 98]]"
      ]
     },
     "execution_count": 139,
     "metadata": {},
     "output_type": "execute_result"
    }
   ],
   "source": [
    "test_player_boats"
   ]
  },
  {
   "cell_type": "code",
   "execution_count": 82,
   "id": "88884327-8d9a-429b-9d15-1ab49cce1ee1",
   "metadata": {},
   "outputs": [
    {
     "data": {
      "text/plain": [
       "['A5', 'G6', 'D4']"
      ]
     },
     "execution_count": 82,
     "metadata": {},
     "output_type": "execute_result"
    }
   ],
   "source": [
    "test_guesses"
   ]
  },
  {
   "cell_type": "code",
   "execution_count": 137,
   "id": "4f819421-f2e6-4a0a-b6e5-d724d3b14356",
   "metadata": {},
   "outputs": [
    {
     "name": "stdin",
     "output_type": "stream",
     "text": [
      "Enter coordinates (in the format 'A1'):  h5\n"
     ]
    },
    {
     "name": "stdout",
     "output_type": "stream",
     "text": [
      "~A~\n"
     ]
    }
   ],
   "source": [
    "test_shunk = []\n",
    "position = fire_shot(test_guesses)\n",
    "flag = sea_empty\n",
    "if check_hit(new_sea, position):\n",
    "    flag = sea_hit\n",
    "\n",
    "update_board_combat(radar_lst_p1, test_sea, position, flag)"
   ]
  },
  {
   "cell_type": "code",
   "execution_count": 144,
   "id": "37480ae3-52b9-4c25-bbd6-28a156d69f3e",
   "metadata": {},
   "outputs": [
    {
     "name": "stdout",
     "output_type": "stream",
     "text": [
      "Radar zone\n",
      "\n",
      "     1   2   3   4   5   6   7   8   9   10\n",
      "A: |   |   |   |   |   |   |   |   |   |   |\n",
      "B: |   |   |   |   |   |   |   |   |   |   |\n",
      "C: |   |   |   |   |   |   |   |   |   |   |\n",
      "D: |   |   |   |   |   |   |   |   |   |   |\n",
      "E: |   |   |   |   |   |   |   |   |   |   |\n",
      "F: |   |   |   |   |   |   |   |   |   |   |\n",
      "G: |   |   |   |   |   |   |   |   |   |   |\n",
      "H: |   |   |   |   |   |   |   |   |   |   |\n",
      "I: |   |   |   |   |   |   |   |   |   |   |\n",
      "J: |   |   |   |   |   |   |   |   |   |   |\n",
      "\n",
      "Sea zone\n",
      "\n",
      "     1   2   3   4   5   6   7   8   9   10\n",
      "A: |~~~|~S~|~S~|~S~|~~~|~~~|~~~|~~~|~~~|~~~|\n",
      "B: |~~~|~~~|~~~|~~~|~~~|~~~|~~~|~~~|~~~|~~~|\n",
      "C: |~~~|~~~|~~~|~~~|~~~|~~~|~~~|~C~|~~~|~~~|\n",
      "D: |~~~|~~~|~~~|~~~|~~~|~~~|~~~|~C~|~~~|~B~|\n",
      "E: |~~~|~~~|~~~|~~~|~~~|~~~|~~~|~C~|~~~|~B~|\n",
      "F: |~~~|~~~|~~~|~~~|~~~|~~~|~~~|~~~|~~~|~B~|\n",
      "G: |~~~|~~~|~~~|~~~|~~~|~~~|~~~|~~~|~~~|~B~|\n",
      "H: |~x~|~x~|~x~|~x~|~x~|~~~|~~~|~~~|~~~|~~~|\n",
      "I: |~~~|~~~|~~~|~~~|~~~|~~~|~~~|~~~|~~~|~~~|\n",
      "J: |~~~|~~~|~~~|~~~|~~~|~~~|~x~|~x~|~~~|~~~|\n",
      "['Aircraft carrier (A)', 'Destroyer (D)']\n"
     ]
    }
   ],
   "source": [
    "test_shunk = []\n",
    "check_ship_status(new_sea, test_player_boats, test_shunk)\n",
    "display_boards(radar_lst_p2, new_sea)\n",
    "print(test_shunk)"
   ]
  },
  {
   "cell_type": "code",
   "execution_count": 114,
   "id": "2e60f24f-b154-4665-8d35-6e4d431edd63",
   "metadata": {},
   "outputs": [
    {
     "name": "stdout",
     "output_type": "stream",
     "text": [
      "0 [1, 2, 3, 4, 5]\n",
      "[False, False, False, False, False]\n",
      "1 [15, 16, 17, 18]\n",
      "[False, False, False, False]\n",
      "2 [71, 81, 91]\n",
      "[False, False, False]\n",
      "3 [45, 44, 43]\n",
      "[False, False, False]\n",
      "4 [70, 60]\n",
      "[True, True]\n"
     ]
    }
   ],
   "source": [
    "for index, boat in enumerate(test_player_boats):\n",
    "    print(index, boat)\n",
    "    print([test_sea[boat[i]] == sea_hit for i in range(len(boat))])\n",
    "    #all([sea_lst[boat[i]]] == sea_hit for i in range(len(boat)))"
   ]
  },
  {
   "cell_type": "code",
   "execution_count": 57,
   "id": "ee59b243",
   "metadata": {},
   "outputs": [],
   "source": [
    "def winning_condition():\n",
    "    \"\"\"Returns true if either player has 0 ships remaining.\"\"\"\n",
    "    if len(player_2_remaining_boats) == 0 or len(player_1_remaining_boats) == 0:\n",
    "        return True\n",
    "\n",
    "    else:\n",
    "        return False\n",
    "        \n",
    "    "
   ]
  },
  {
   "cell_type": "code",
   "execution_count": 51,
   "id": "23509d94",
   "metadata": {},
   "outputs": [],
   "source": [
    "def new_turn():\n",
    "    \"\"\"When turn ended (i.e. function is called), hides the previous player's board and asks next player if they are ready.\n",
    "    Once second player is ready, sets turn to their go and displays their board.\"\"\"\n",
    "    pass"
   ]
  },
  {
   "cell_type": "code",
   "execution_count": 52,
   "id": "37038b20",
   "metadata": {},
   "outputs": [],
   "source": [
    "def final_result():\n",
    "    \"\"\"Displays both boards at the end of the game.\"\"\"\n",
    "    pass"
   ]
  },
  {
   "cell_type": "code",
   "execution_count": 54,
   "id": "0fa04306",
   "metadata": {},
   "outputs": [
    {
     "ename": "IndentationError",
     "evalue": "unindent does not match any outer indentation level (<tokenize>, line 9)",
     "output_type": "error",
     "traceback": [
      "\u001b[1;36m  File \u001b[1;32m<tokenize>:9\u001b[1;36m\u001b[0m\n\u001b[1;33m    if replay_dropdown.value == \"Yes\":\u001b[0m\n\u001b[1;37m    ^\u001b[0m\n\u001b[1;31mIndentationError\u001b[0m\u001b[1;31m:\u001b[0m unindent does not match any outer indentation level\n"
     ]
    }
   ],
   "source": [
    "replay_dropdown = widgets.Dropdown(\n",
    "                    options=['Yes', 'No'],\n",
    "                    value='Yes',\n",
    "                    description='Replay? ',\n",
    "                    disabled=False,\n",
    "                )\n",
    "def replay():\n",
    "    \"\"\"Asks players if they want to play again. If 'Yes', restarts game. If 'No', exits program.\"\"\"\n",
    "   if replay_dropdown.value == \"Yes\":\n",
    "       \n",
    "       \n",
    "replay_dropdown\n",
    "    \n",
    "    \n"
   ]
  },
  {
   "cell_type": "code",
   "execution_count": null,
   "id": "baced1de",
   "metadata": {},
   "outputs": [],
   "source": []
  },
  {
   "cell_type": "code",
   "execution_count": 55,
   "id": "04c0717b-69db-4e11-a7c8-111c6cc822b7",
   "metadata": {},
   "outputs": [
    {
     "name": "stdout",
     "output_type": "stream",
     "text": [
      "🛥\n",
      "⛴\n",
      "💥\n"
     ]
    }
   ],
   "source": [
    "print(\"\\U0001F6E5\")\n",
    "print(\"\\U000026F4\")\n",
    "print(\"\\U0001F4A5\")"
   ]
  }
 ],
 "metadata": {
  "kernelspec": {
   "display_name": "Python 3 (ipykernel)",
   "language": "python",
   "name": "python3"
  },
  "language_info": {
   "codemirror_mode": {
    "name": "ipython",
    "version": 3
   },
   "file_extension": ".py",
   "mimetype": "text/x-python",
   "name": "python",
   "nbconvert_exporter": "python",
   "pygments_lexer": "ipython3",
   "version": "3.11.7"
  }
 },
 "nbformat": 4,
 "nbformat_minor": 5
}

{
 "cells": [
  {
   "cell_type": "markdown",
   "id": "f5a4ce30",
   "metadata": {},
   "source": [
    "# Battleships"
   ]
  },
  {
   "cell_type": "markdown",
   "id": "b84449e0",
   "metadata": {},
   "source": [
    "## Planning"
   ]
  },
  {
   "cell_type": "markdown",
   "id": "15ef5a51",
   "metadata": {},
   "source": [
    "- standard version & extended version (if we have time)\n",
    "    - standard\n",
    "        - normal rules\n",
    "        - 2 human players\n",
    "        - basic display (jupyter output)\n",
    "    - extended\n",
    "        - graphics display (turtle?)\n",
    "        - hard mode (\"Salvo\")\n",
    "        - computer player\n",
    "            - random guess\n",
    "            - if last guess == hit, random guess within closer range...\n",
    "        - different size board\n",
    "        - different size ships(?)\n"
   ]
  },
  {
   "cell_type": "markdown",
   "id": "e3df0e45",
   "metadata": {},
   "source": [
    "Standard:\n",
    "\n",
    "- board\n",
    "    - 10x10\n",
    "    - 4 boards (player_1_sea, player_1_radar, player_2_sea, player_2_radar)\n",
    "\n",
    "- ships\n",
    "    - number/size has to make sense for the board dimensions\n",
    "    - standard:\n",
    "        - Carrier (5)\n",
    "        - Battelship (4)\n",
    "        - Cruiser (3)\n",
    "        - Submarine (3)\n",
    "        - Destroyer (2)\n",
    "\n",
    "- turn\n",
    "    - guess one coordinate on board\n",
    "        - outputs result (miss / hit + ship if hit)\n",
    "            - sunk if ship gone\n",
    "        - displays new board (updated pegs)\n",
    "\n",
    "- display\n",
    "    - can only see your board"
   ]
  },
  {
   "cell_type": "markdown",
   "id": "252c02fc",
   "metadata": {},
   "source": [
    "Functions:\n",
    "\n",
    "- display_board\n",
    "    - input lists\n",
    "    - output (print) sea and radar\n",
    "\n",
    "- player_names\n",
    "    - input string\n",
    "\n",
    "- place_ships\n",
    "    - choose ship\n",
    "    - choose starting coordinate\n",
    "    - choose direction (udlr)\n",
    "    - calls check_space_free (iterates for all coords in selection)\n",
    "    - updates ship variables\n",
    "\n",
    "- update board\n",
    "\n",
    "- check_space_free\n",
    "\n",
    "- choose_first_player\n",
    "    - random (0, 1)\n",
    "\n",
    "- fire_shot\n",
    "    - choose location to fire at\n",
    "    - update board/list\n",
    "\n",
    "- check_hit\n",
    "    - returns result of shot\n",
    "    - update ship count\n",
    "\n",
    "- check_ship_status\n",
    "    - checks if \n",
    "\n",
    "- save_shot\n",
    "    - remove available firing locations\n",
    "    - decide whether can play in same square again\n",
    "\n",
    "- ready_for_turn\n",
    "    - when turn ended, hide board\n",
    "    - ask if ready\n",
    "    - when ready, show other player board\n",
    "\n",
    "- winning_condition\n",
    "    - ship count == 0\n",
    "\n",
    "- replay"
   ]
  },
  {
   "cell_type": "markdown",
   "id": "822d9be0",
   "metadata": {},
   "source": [
    "Game Logic\n",
    "\n",
    "- initiate empty board\n",
    "- ask for player names\n",
    "- decide who goes first\n",
    "\n",
    "- player 1 places ships\n",
    "    - display_board per ship placed\n",
    "    - ready_for_turn\n",
    "- player 2 places ships\n",
    "    - display_board per ship placed\n",
    "    - ready_for_turn\n",
    "\n",
    "- while not winning_condition:\n",
    "    - player 1 fire_shot\n",
    "        - display board\n",
    "        - (update board)\n",
    "        - check_hit\n",
    "        - check_ship_status\n",
    "        - check winning_condition\n",
    "        - display board\n",
    "        - ready_for_turn\n",
    "    - player 2 fire_shot (same logic as player 1)\n",
    "\n",
    "- display result\n",
    "    - display both boards (?)\n",
    "\n",
    "- ask for replay"
   ]
  },
  {
   "cell_type": "code",
   "execution_count": 1,
   "id": "2d991618",
   "metadata": {},
   "outputs": [
    {
     "name": "stdout",
     "output_type": "stream",
     "text": [
      "🛥\n",
      "⛴\n",
      "💥\n"
     ]
    }
   ],
   "source": [
    "print(\"\\U0001F6E5\")\n",
    "print(\"\\U000026F4\")\n",
    "print(\"\\U0001F4A5\")"
   ]
  },
  {
   "cell_type": "markdown",
   "id": "8a3a78f6",
   "metadata": {},
   "source": [
    "## Functions"
   ]
  },
  {
   "cell_type": "code",
   "execution_count": 2,
   "id": "26e809cc-9def-44e4-8cf9-a76b06e429ce",
   "metadata": {},
   "outputs": [],
   "source": [
    "# Library imports\n",
    "import random\n",
    "from getpass import getpass\n",
    "\n",
    "import IPython\n",
    "from IPython.display import display, clear_output\n",
    "\n",
    "import ipywidgets as widgets\n",
    "from ipywidgets import AppLayout, Button, Layout"
   ]
  },
  {
   "cell_type": "code",
   "execution_count": 3,
   "id": "5cfb81d7-047a-445b-bd48-103ed182f5e2",
   "metadata": {},
   "outputs": [],
   "source": [
    "def player_names():\n",
    "    \"\"\"Asks for the names of the players and returns both in a tuple.\"\"\"\n",
    "    player_1 = input(\"Player name: \")\n",
    "    player_2 = input(\"Player name: \")\n",
    "    return player_1, player_2\n",
    "\n",
    "def choose_first_player(player_1_name, player_2_name):\n",
    "    \"\"\"Randomly selects which player has the first turn. Returns one of the two player names that were \n",
    "    passed to the function.\"\"\"\n",
    "    if random.randint(0,1) == 0:\n",
    "        return player_1_name\n",
    "    else:\n",
    "        return player_2_name\n",
    "\n",
    "def display_boards(player_name, radar_lst, sea_lst):\n",
    "    \"\"\"Prints the radar_lst and sea_lst lists in the format of Battleships boards, with the letters list\n",
    "    denoting the rows.\"\"\"\n",
    "        \n",
    "    print(player_name, \"\\n\")\n",
    "    print(\"Radar\\n\")\n",
    "    print(\"     1   2   3   4   5   6   7   8   9   10\")\n",
    "    for index, i in enumerate(radar_lst):\n",
    "        if index == 0:\n",
    "            pass\n",
    "        elif index % 10 == 1:\n",
    "            letter = letters[index//10]\n",
    "            print(f\"{letter}: |{i}\", end = \"\")\n",
    "        elif index % 10 == 0:\n",
    "            print(f\"|{i}|\")\n",
    "        else:\n",
    "            print(f\"|{i}\", end = \"\")\n",
    "            \n",
    "    print(\"\\nSea\\n\")\n",
    "    print(\"     1   2   3   4   5   6   7   8   9   10\")\n",
    "    for index, i in enumerate(sea_lst):\n",
    "        if index == 0:\n",
    "            pass\n",
    "        elif index % 10 == 1:\n",
    "            letter = letters[index//10]\n",
    "            print(f\"{letter}: |{i}\", end = \"\")\n",
    "        elif index % 10 == 0:\n",
    "            print(f\"|{i}|\")\n",
    "        else:\n",
    "            print(f\"|{i}\", end = \"\")"
   ]
  },
  {
   "cell_type": "code",
   "execution_count": 4,
   "id": "9acd83c4",
   "metadata": {},
   "outputs": [],
   "source": [
    "def update_board_placement(sea_lst, boat_coords, symbol):\n",
    "    \"\"\"Updates the board after the placement of a boat, taking a list of boat_coords as input.\"\"\"\n",
    "    for coord in boat_coords:\n",
    "        sea_lst[coord] = symbol\n",
    "        \n",
    "def update_board_combat(radar_lst, sea_lst, position, flag):\n",
    "    \"\"\"Taking the position and flag results from a turn, this function updates the radar_lst and \n",
    "    sea_lst lists that make up the board.\"\"\"\n",
    "    if flag:\n",
    "        radar_lst[position] = radar_hit\n",
    "        sea_lst[position] = sea_hit\n",
    "    else:\n",
    "        radar_lst[position] = radar_miss\n",
    "        sea_lst[position] = sea_miss\n",
    "        \n",
    "def update_scoreboard():\n",
    "    \"\"\"Updates the scoreboard.\"\"\"\n",
    "    with scoreboard:\n",
    "        clear_output()\n",
    "        print(\"Scoreboard: \\n\")\n",
    "        print(f\"{player_1_name} has sunk:\" + \"\\n\"*(5-len(player_2_sunk_boats)))\n",
    "        if player_2_sunk_boats:\n",
    "            display(player_2_sunk_boats)\n",
    "        print(f\"{player_2_name} has sunk:\")\n",
    "        if player_1_sunk_boats:\n",
    "            display(player_1_sunk_boats)"
   ]
  },
  {
   "cell_type": "code",
   "execution_count": 5,
   "id": "e3f650c7",
   "metadata": {},
   "outputs": [],
   "source": [
    "def enforce_player_coord(coord):\n",
    "    \"\"\"Ensures a player coordinate input is in the valid 'A1' - 'J10' format. Returns coord once in the correct format.\"\"\"\n",
    "    # Ensure second item in coord is a number\n",
    "    try:\n",
    "        int(coord[1])\n",
    "    except (ValueError, IndexError):\n",
    "        coord = input(\"Enter coordinates (in the format 'A1'): \").upper()\n",
    "\n",
    "    # Ensure coord is 2-3 characters long (and ends in '10') if 3 characters, starts with a letter in letters and\n",
    "    # ends in a number 1-10\n",
    "    while len(coord) > 3 or len(coord) < 2 or \\\n",
    "    (len(coord) == 3 and coord[1:3] != \"10\") or \\\n",
    "    coord[0] not in letters or int(coord[1]) not in range(1, 10):\n",
    "        with text_update:\n",
    "            print(\"Coordinates must be in format 'LetterNumber' (e.g. 'A1').\")\n",
    "        coord = input(\"Enter coordinates (in the format 'A1'): \").upper()\n",
    "     \n",
    "    return coord.upper()\n",
    "\n",
    "def coord_string_to_digit(coord):\n",
    "    return letters.index(coord[0]) * 10 + int(coord[1:])"
   ]
  },
  {
   "cell_type": "code",
   "execution_count": 6,
   "id": "3e4e788f",
   "metadata": {},
   "outputs": [],
   "source": [
    "def place_boats(player_name, radar_lst, sea_lst, player_boat_coords):\n",
    "    \"\"\"Prompts user to place boats in descending order of length, by entering starting co-ordinate and direction.\n",
    "    Calls check_space_free() to ensure boat placement is valid - if not, prompts user to place boat elsewhere.\n",
    "    Saves placed boats in player_boats list.\"\"\"\n",
    "    \n",
    "    for boat, data in boat_types.items():\n",
    "        length, symbol = data\n",
    "        coords = \"\"\n",
    "        while not coords:            \n",
    "#             if not first_pass:\n",
    "#                 with text_update:\n",
    "#                     print(txt)\n",
    "            start_coord = coord_string_to_digit(enforce_player_coord(getpass(f\"Enter start coordinate for {boat}: \").upper()))\n",
    "            direction = \"\"\n",
    "            first_dir = True\n",
    "            while direction not in [\"U\",\"D\",\"L\",\"R\"]:\n",
    "                if not first_dir:\n",
    "                    with text_update:\n",
    "                        print(\"Direction must be one of 'U', 'D', 'L' or 'R'.\")\n",
    "                direction = getpass(\"Choose direction (U/D/L/R): \").upper()\n",
    "                first_dir = False\n",
    "            coords = check_space_free(sea_lst, start_coord, direction, length)\n",
    "#             first_pass = False\n",
    "#         with text_update:\n",
    "#             print(txt)\n",
    "        player_boat_coords.append(coords)\n",
    "        update_board_placement(sea_lst, coords, symbol)\n",
    "\n",
    "        with boards:\n",
    "            clear_output()\n",
    "            display(display_boards(player_name, radar_lst, sea_lst))"
   ]
  },
  {
   "cell_type": "code",
   "execution_count": 7,
   "id": "aae9f674",
   "metadata": {},
   "outputs": [],
   "source": [
    "def check_space_free(sea_lst, start_coord, direction, length):\n",
    "    \"\"\"Checks if all required spaces for boat placement are free and in range.\n",
    "    Returns tuple (coordinates, \"Ship placed\") if valid, otherwise returns (False, [error message]).\"\"\"\n",
    "    \n",
    "    # use length of boat and direction to find all coords it will cover\n",
    "    # if any of those coords are not sea empty, return False\n",
    "        # also handle out of range issues\n",
    "    # else return coords\n",
    "\n",
    "    if sea_lst[start_coord] != sea_empty:\n",
    "        with text_update:\n",
    "            print(\"Sea already occupied here\")\n",
    "        return False\n",
    "    \n",
    "    boat_coords = [start_coord]\n",
    "    row = start_coord // 10\n",
    "    if start_coord % 10 == 0:\n",
    "        row -= 1\n",
    "                \n",
    "    if direction in [\"L\", \"R\"]:\n",
    "        d = 1\n",
    "        if direction == \"L\":\n",
    "            d = -1\n",
    "        for i in range(1, length):\n",
    "            next_coord = start_coord + (i * d)\n",
    "            if (next_coord - 1) // 10 != row:\n",
    "                with text_update:\n",
    "                    print(\"Ship outside board\")\n",
    "                return False\n",
    "            elif sea_lst[next_coord] != sea_empty:\n",
    "                with text_update:\n",
    "                    print(\"Sea already occupied here\")\n",
    "                return False\n",
    "            else:\n",
    "                boat_coords.append(next_coord)\n",
    "        with text_update:\n",
    "            print(\"Ship placed\")\n",
    "        return boat_coords\n",
    "    \n",
    "    elif direction in [\"U\", \"D\"]:\n",
    "        d = 1\n",
    "        if direction == \"U\":\n",
    "            d = -1\n",
    "        for i in range(1, length):\n",
    "            next_coord = start_coord + (i * 10 * d)\n",
    "            if next_coord not in range(1, 101):\n",
    "                with text_update:\n",
    "                    print(\"Ship outside board\")\n",
    "                return False\n",
    "            elif sea_lst[next_coord] != sea_empty:\n",
    "                with text_update:\n",
    "                    print(\"Sea already occupied here\")\n",
    "                return False\n",
    "            else:\n",
    "                boat_coords.append(next_coord)\n",
    "        with text_update:\n",
    "            print(\"Ship placed\")\n",
    "        return boat_coords\n",
    "    \n",
    "    else:\n",
    "        with text_update:\n",
    "            print(\"Direction error\")\n",
    "        return False"
   ]
  },
  {
   "cell_type": "code",
   "execution_count": 8,
   "id": "8dc72798",
   "metadata": {},
   "outputs": [],
   "source": [
    "def fire_shot(player_guesses):\n",
    "    \"\"\"Calls enforce_player_coord() to prompt player to enter a guess and enforce validity.\n",
    "    If coordinates have been guessed by the player already, asks for another guess.\n",
    "    If the guess is valid, adds the guess to player_guesses and returns the \n",
    "    list index ('position') of the player guess.\"\"\"\n",
    "    \n",
    "    guess = \"\"\n",
    "    guess = enforce_player_coord(guess)\n",
    "    \n",
    "    # Checks if guess has already been guessed in a previous turn\n",
    "    while guess in player_guesses:\n",
    "        with text_update:\n",
    "            print(\"Coordinates already guessed!\")\n",
    "        guess = input(\"Enter coordinates (in the format 'A1'): \").upper() \n",
    "    \n",
    "    player_guesses.append(guess) # adds guess to guess history\n",
    "    position = coord_string_to_digit(guess)\n",
    "    return position"
   ]
  },
  {
   "cell_type": "code",
   "execution_count": 64,
   "id": "fa125330",
   "metadata": {},
   "outputs": [],
   "source": [
    "def check_hit(sea_lst, position):\n",
    "    \"\"\"Takes player guess position and evaluates if it matched an opponent boat. Updates text_update and returns bool.\"\"\"\n",
    "    if sea_lst[position] in sea_boats:\n",
    "        with text_update:\n",
    "            print(\"Hit!\")\n",
    "        return True\n",
    "    else:\n",
    "        with text_update:\n",
    "            print(\"Miss!\")\n",
    "        return False"
   ]
  },
  {
   "cell_type": "code",
   "execution_count": 11,
   "id": "aa861d50",
   "metadata": {},
   "outputs": [],
   "source": [
    "def check_ship_status(sea_lst, player_boat_coords, player_sunk_boats):\n",
    "    \"\"\"Checks which ships are destroyed and updates ship count.\"\"\"\n",
    "    for index, boat in enumerate(player_boat_coords):\n",
    "        if all([sea_lst[boat[i]] == sea_hit for i in range(len(boat))]):\n",
    "            boat_type = list(boat_types.keys())[index]\n",
    "            if boat_type not in player_sunk_boats:\n",
    "                with text_update:\n",
    "                    print(f\"{boat_type} sunk!\")\n",
    "            player_sunk_boats.add(boat_type)"
   ]
  },
  {
   "cell_type": "code",
   "execution_count": 12,
   "id": "ee59b243",
   "metadata": {},
   "outputs": [],
   "source": [
    "def winning_condition():\n",
    "    \"\"\"Updates global winner variable and returns True if either player has 5 ships sunk.\"\"\"\n",
    "    global winner\n",
    "    if len(player_1_sunk_boats) == 5:\n",
    "        winner = player_2_name\n",
    "        return True\n",
    "    elif len(player_2_sunk_boats) == 5:\n",
    "        winner = player_1_name\n",
    "        return True\n",
    "    else:\n",
    "        return False"
   ]
  },
  {
   "cell_type": "code",
   "execution_count": 13,
   "id": "231026cb",
   "metadata": {},
   "outputs": [],
   "source": [
    "def new_turn(name):\n",
    "    \"\"\"When turn ended (i.e. function is called), hides the previous player's board and asks next player if they are ready.\n",
    "    Once second player is ready, sets turn to their go and displays their board.\"\"\"\n",
    "    \n",
    "    global turn\n",
    "    boards.clear_output()\n",
    "    with text_update:\n",
    "        clear_output()\n",
    "        print(\"Text updates:\\n\")\n",
    "    ready = input(f\"{name}, enter Y to continue: \").upper()\n",
    "    if ready == \"Y\":\n",
    "        if name == player_1_name:\n",
    "            with boards:\n",
    "                display(display_boards(name, radar_lst_p1, sea_lst_p1))\n",
    "        else:\n",
    "            with boards:\n",
    "                display(display_boards(name, radar_lst_p2, sea_lst_p2))\n",
    "    turn = name\n",
    "    with text_update:\n",
    "        print(f\"{name} - your go!\")"
   ]
  },
  {
   "cell_type": "code",
   "execution_count": 14,
   "id": "37038b20",
   "metadata": {},
   "outputs": [],
   "source": [
    "def final_result(winner):\n",
    "    \"\"\"Displays both boards at the end of the game.\"\"\"\n",
    "    clear_output()\n",
    "    print(f\"{winner} wins!\\n\")\n",
    "    if winner == player_1_name:\n",
    "        display(display_boards(player_1_name, radar_lst_p1, sea_lst_p1))\n",
    "    else:\n",
    "        display(display_boards(player_2_name, radar_lst_p2, sea_lst_p2))"
   ]
  },
  {
   "cell_type": "code",
   "execution_count": 66,
   "id": "dc4c5a44",
   "metadata": {},
   "outputs": [],
   "source": [
    "def test_variables():\n",
    "    \"\"\"Returns test variables for two players in the order:\n",
    "    - test_radar\n",
    "    - test_sea\n",
    "    - test_boat_coords,\n",
    "    - test_sunk_boats\n",
    "    - test_guesses\"\"\"\n",
    "    \n",
    "    test_radar = [radar_empty]*101\n",
    "    test_sea = [sea_empty] * 101\n",
    "    test_radar2 = [radar_empty]*101\n",
    "    test_sea2 = [sea_empty] * 101\n",
    "    \n",
    "    test_boat_coords = [[1,2,3,4,5], [11,12,13,14], [21,22,23], [31,32,33], [41,42]]\n",
    "    test_boat_coords2 = [[100,90,80,70,60], [99,89,79,69], [98,88,78], [97,87,77], [96,86]]\n",
    "    \n",
    "    # Set player1_sea and player2_radar to all boats coords hit except last for each boat, and misses for opposite boards\n",
    "    for boat, coords in enumerate(test_boat_coords):\n",
    "        for i in range(len(coords)-1):\n",
    "            test_sea[coords[i]] = sea_hit\n",
    "            test_radar2[coords[i]] = radar_hit\n",
    "            test_sea2[coords[i]] = sea_miss\n",
    "            test_radar[coords[i]] = radar_miss\n",
    "        test_sea[coords[len(coords)-1]] = sea_boats[boat]\n",
    "    \n",
    "    for boat, coords in enumerate(test_boat_coords2):\n",
    "        for i in coords:\n",
    "            test_sea2[i] = sea_boats[boat]\n",
    "    \n",
    "    \n",
    "    test_sunk_boats = set()\n",
    "    test_guesses = []\n",
    "    test_sunk_boats2 = set()\n",
    "    test_guesses2 = []\n",
    "    \n",
    "    return test_radar, test_sea, test_boat_coords, test_sunk_boats, test_guesses, \\\n",
    "            test_radar2, test_sea2, test_boat_coords2, test_sunk_boats2, test_guesses2"
   ]
  },
  {
   "cell_type": "code",
   "execution_count": 58,
   "id": "717aceb0",
   "metadata": {},
   "outputs": [
    {
     "name": "stdout",
     "output_type": "stream",
     "text": [
      "test \n",
      "\n",
      "Radar\n",
      "\n",
      "     1   2   3   4   5   6   7   8   9   10\n",
      "A: | o | o | o | o |   |   |   |   |   |   |\n",
      "B: | o | o | o |   |   |   |   |   |   |   |\n",
      "C: | o | o |   |   |   |   |   |   |   |   |\n",
      "D: | o | o |   |   |   |   |   |   |   |   |\n",
      "E: | o |   |   |   |   |   |   |   |   |   |\n",
      "F: |   |   |   |   |   |   |   |   |   |   |\n",
      "G: |   |   |   |   |   |   |   |   |   |   |\n",
      "H: |   |   |   |   |   |   |   |   |   |   |\n",
      "I: |   |   |   |   |   |   |   |   |   |   |\n",
      "J: |   |   |   |   |   |   |   |   |   |   |\n",
      "\n",
      "Sea\n",
      "\n",
      "     1   2   3   4   5   6   7   8   9   10\n",
      "A: |~x~|~x~|~x~|~x~|~A~|~~~|~~~|~~~|~~~|~~~|\n",
      "B: |~x~|~x~|~x~|~B~|~~~|~~~|~~~|~~~|~~~|~~~|\n",
      "C: |~x~|~x~|~S~|~~~|~~~|~~~|~~~|~~~|~~~|~~~|\n",
      "D: |~x~|~x~|~C~|~~~|~~~|~~~|~~~|~~~|~~~|~~~|\n",
      "E: |~x~|~D~|~~~|~~~|~~~|~~~|~~~|~~~|~~~|~~~|\n",
      "F: |~~~|~~~|~~~|~~~|~~~|~~~|~~~|~~~|~~~|~~~|\n",
      "G: |~~~|~~~|~~~|~~~|~~~|~~~|~~~|~~~|~~~|~~~|\n",
      "H: |~~~|~~~|~~~|~~~|~~~|~~~|~~~|~~~|~~~|~~~|\n",
      "I: |~~~|~~~|~~~|~~~|~~~|~~~|~~~|~~~|~~~|~~~|\n",
      "J: |~~~|~~~|~~~|~~~|~~~|~~~|~~~|~~~|~~~|~~~|\n"
     ]
    }
   ],
   "source": [
    "a, b, c, d, e, v, w, x, y, z = test_variables()\n",
    "\n",
    "display_boards(\"test\", a, b)\n",
    "# display_boards(\"test2\", v, w)"
   ]
  },
  {
   "cell_type": "code",
   "execution_count": 67,
   "id": "41a10a12",
   "metadata": {
    "scrolled": false
   },
   "outputs": [
    {
     "name": "stdout",
     "output_type": "stream",
     "text": [
      "Welcome to Battleships!\n",
      "\n"
     ]
    },
    {
     "data": {
      "application/vnd.jupyter.widget-view+json": {
       "model_id": "5a275f2acb364bc69ea04b6b1f592d62",
       "version_major": 2,
       "version_minor": 0
      },
      "text/plain": [
       "AppLayout(children=(Output(layout=Layout(grid_area='left-sidebar')), Output(layout=Layout(grid_area='right-sid…"
      ]
     },
     "metadata": {},
     "output_type": "display_data"
    },
    {
     "name": "stdout",
     "output_type": "stream",
     "text": [
      "Player name: test\n",
      "Player name: James\n",
      "Enter coordinates (in the format 'A1'): a5\n",
      " Ready to pass to test? y\n",
      "test, enter Y to continue: y\n",
      "Enter coordinates (in the format 'A1'): a7\n",
      " Ready to pass to James? y\n",
      "James, enter Y to continue: y\n",
      "Enter coordinates (in the format 'A1'): D3\n"
     ]
    },
    {
     "ename": "KeyboardInterrupt",
     "evalue": "Interrupted by user",
     "output_type": "error",
     "traceback": [
      "\u001b[1;31m---------------------------------------------------------------------------\u001b[0m",
      "\u001b[1;31mKeyboardInterrupt\u001b[0m                         Traceback (most recent call last)",
      "Cell \u001b[1;32mIn[67], line 163\u001b[0m\n\u001b[0;32m    161\u001b[0m ready \u001b[38;5;241m=\u001b[39m \u001b[38;5;124m\"\u001b[39m\u001b[38;5;124m\"\u001b[39m\n\u001b[0;32m    162\u001b[0m \u001b[38;5;28;01mwhile\u001b[39;00m ready \u001b[38;5;241m!=\u001b[39m \u001b[38;5;124m\"\u001b[39m\u001b[38;5;124mY\u001b[39m\u001b[38;5;124m\"\u001b[39m:\n\u001b[1;32m--> 163\u001b[0m     ready \u001b[38;5;241m=\u001b[39m \u001b[38;5;28minput\u001b[39m(\u001b[38;5;124mf\u001b[39m\u001b[38;5;124m\"\u001b[39m\u001b[38;5;124m Ready to pass to \u001b[39m\u001b[38;5;132;01m{\u001b[39;00mplayer_1_name\u001b[38;5;132;01m}\u001b[39;00m\u001b[38;5;124m? \u001b[39m\u001b[38;5;124m\"\u001b[39m)\u001b[38;5;241m.\u001b[39mupper()\n\u001b[0;32m    164\u001b[0m new_turn(player_1_name)\n",
      "File \u001b[1;32m~\\anaconda3\\Lib\\site-packages\\ipykernel\\kernelbase.py:1202\u001b[0m, in \u001b[0;36mKernel.raw_input\u001b[1;34m(self, prompt)\u001b[0m\n\u001b[0;32m   1200\u001b[0m     msg \u001b[38;5;241m=\u001b[39m \u001b[38;5;124m\"\u001b[39m\u001b[38;5;124mraw_input was called, but this frontend does not support input requests.\u001b[39m\u001b[38;5;124m\"\u001b[39m\n\u001b[0;32m   1201\u001b[0m     \u001b[38;5;28;01mraise\u001b[39;00m StdinNotImplementedError(msg)\n\u001b[1;32m-> 1202\u001b[0m \u001b[38;5;28;01mreturn\u001b[39;00m \u001b[38;5;28mself\u001b[39m\u001b[38;5;241m.\u001b[39m_input_request(\n\u001b[0;32m   1203\u001b[0m     \u001b[38;5;28mstr\u001b[39m(prompt),\n\u001b[0;32m   1204\u001b[0m     \u001b[38;5;28mself\u001b[39m\u001b[38;5;241m.\u001b[39m_parent_ident[\u001b[38;5;124m\"\u001b[39m\u001b[38;5;124mshell\u001b[39m\u001b[38;5;124m\"\u001b[39m],\n\u001b[0;32m   1205\u001b[0m     \u001b[38;5;28mself\u001b[39m\u001b[38;5;241m.\u001b[39mget_parent(\u001b[38;5;124m\"\u001b[39m\u001b[38;5;124mshell\u001b[39m\u001b[38;5;124m\"\u001b[39m),\n\u001b[0;32m   1206\u001b[0m     password\u001b[38;5;241m=\u001b[39m\u001b[38;5;28;01mFalse\u001b[39;00m,\n\u001b[0;32m   1207\u001b[0m )\n",
      "File \u001b[1;32m~\\anaconda3\\Lib\\site-packages\\ipykernel\\kernelbase.py:1245\u001b[0m, in \u001b[0;36mKernel._input_request\u001b[1;34m(self, prompt, ident, parent, password)\u001b[0m\n\u001b[0;32m   1242\u001b[0m \u001b[38;5;28;01mexcept\u001b[39;00m \u001b[38;5;167;01mKeyboardInterrupt\u001b[39;00m:\n\u001b[0;32m   1243\u001b[0m     \u001b[38;5;66;03m# re-raise KeyboardInterrupt, to truncate traceback\u001b[39;00m\n\u001b[0;32m   1244\u001b[0m     msg \u001b[38;5;241m=\u001b[39m \u001b[38;5;124m\"\u001b[39m\u001b[38;5;124mInterrupted by user\u001b[39m\u001b[38;5;124m\"\u001b[39m\n\u001b[1;32m-> 1245\u001b[0m     \u001b[38;5;28;01mraise\u001b[39;00m \u001b[38;5;167;01mKeyboardInterrupt\u001b[39;00m(msg) \u001b[38;5;28;01mfrom\u001b[39;00m \u001b[38;5;28;01mNone\u001b[39;00m\n\u001b[0;32m   1246\u001b[0m \u001b[38;5;28;01mexcept\u001b[39;00m \u001b[38;5;167;01mException\u001b[39;00m:\n\u001b[0;32m   1247\u001b[0m     \u001b[38;5;28mself\u001b[39m\u001b[38;5;241m.\u001b[39mlog\u001b[38;5;241m.\u001b[39mwarning(\u001b[38;5;124m\"\u001b[39m\u001b[38;5;124mInvalid Message:\u001b[39m\u001b[38;5;124m\"\u001b[39m, exc_info\u001b[38;5;241m=\u001b[39m\u001b[38;5;28;01mTrue\u001b[39;00m)\n",
      "\u001b[1;31mKeyboardInterrupt\u001b[0m: Interrupted by user"
     ]
    }
   ],
   "source": [
    "# Display containers\n",
    "text_update = widgets.Output()\n",
    "boards = widgets.Output()\n",
    "scoreboard = widgets.Output()\n",
    "\n",
    "app =  AppLayout(header=None,\n",
    "                 left_sidebar=text_update,\n",
    "                 center=boards,\n",
    "                 right_sidebar=scoreboard,\n",
    "                 footer=None,\n",
    "#                  pane_heights=[1, 20, 1]\n",
    "                )\n",
    "\n",
    "print(\"Welcome to Battleships!\\n\")\n",
    "display(app)\n",
    "\n",
    "# Reset boards and define initial variables\n",
    "letters = [\"A\",\"B\",\"C\",\"D\",\"E\",\"F\",\"G\",\"H\",\"I\",\"J\"]\n",
    "\n",
    "# Radar squares\n",
    "radar_empty = \"   \"\n",
    "radar_boats = [\" D \", \" C \", \" S \", \" B \", \" A \"]\n",
    "radar_hit = \" x \"\n",
    "radar_miss = \" o \"\n",
    "\n",
    "# Sea squares\n",
    "sea_empty = \"~~~\"\n",
    "sea_boats = [\"~A~\", \"~B~\", \"~S~\", \"~C~\", \"~D~\"]\n",
    "sea_hit = \"~x~\"\n",
    "sea_miss = \"~o~\"\n",
    "\n",
    "# Boat types\n",
    "boat_types = {\"Aircraft carrier (5)\" : (5, \"~A~\"), \n",
    "              \"Battleship (4)\" : (4, \"~B~\"), \n",
    "              \"Submarine (3)\" : (3, \"~S~\"), \n",
    "              \"Cruiser (3)\" : (3, \"~C~\"), \n",
    "              \"Destroyer (2)\" : (2, \"~D~\")}\n",
    "\n",
    "# Create empty grids\n",
    "sea_lst_p1 = [sea_empty] * 101  \n",
    "radar_lst_p1 = [radar_empty] * 101\n",
    "sea_lst_p2 = [sea_empty] * 101  \n",
    "radar_lst_p2 = [radar_empty] * 101\n",
    "\n",
    "# Set of player boats that have been sunk\n",
    "player_1_sunk_boats = set()\n",
    "player_2_sunk_boats = set()\n",
    "\n",
    "# Lists of player boat locations\n",
    "player_1_boat_coords = []\n",
    "player_2_boat_coords = []\n",
    "\n",
    "# Lists of past guesses\n",
    "player_1_guesses = []\n",
    "player_2_guesses = []\n",
    "\n",
    "replay_dropdown = widgets.Dropdown(\n",
    "                    options=['','Yes', 'No'],\n",
    "                    value='',\n",
    "                    description='Replay? ',\n",
    "                    disabled=False,\n",
    "                    )\n",
    "\n",
    "### Game starts ###\n",
    "winner = False\n",
    "\n",
    "# Ask for player names\n",
    "player_1_name, player_2_name = player_names()\n",
    "\n",
    "with text_update:\n",
    "    print(\"Text updates:\\n\")\n",
    "with scoreboard:\n",
    "    print(\"Scoreboard:\\n\")\n",
    "    print(f\"{player_1_name} has sunk:\" + \"\\n\"*5)\n",
    "    print(f\"{player_2_name} has sunk:\")\n",
    "\n",
    "\n",
    "# Allow endgame testing\n",
    "if player_1_name.lower() == \"test\":\n",
    "    radar_lst_p1, sea_lst_p1, player_1_boat_coords, player_1_sunk_boats, player_2_guesses, \\\n",
    "    radar_lst_p2, sea_lst_p2, player_2_boat_coords, player_2_sunk_boats, player_2_guesses = test_variables()\n",
    "    turn == player_2_name\n",
    "    with boards:\n",
    "        display_boards(player_2_name, radar_lst_p2, sea_lst_p2)\n",
    "    \n",
    "else:\n",
    "    # Determine which player starts\n",
    "    turn = choose_first_player(player_1_name, player_2_name)    \n",
    "    with text_update:\n",
    "        print(f\"\\n{turn} starts!\\n\")\n",
    "\n",
    "    # Players placing the boats\n",
    "    if turn == player_1_name:\n",
    "        # Player 1 places ships\n",
    "        with boards:\n",
    "            display_boards(player_1_name, radar_lst_p1, sea_lst_p1)\n",
    "        place_boats(player_1_name, radar_lst_p1, sea_lst_p1, player_1_boat_coords)\n",
    "        new_turn(player_2_name)\n",
    "        # Player 2 places ships\n",
    "        place_boats(player_2_name, radar_lst_p2, sea_lst_p2, player_2_boat_coords)\n",
    "        new_turn(player_1_name)\n",
    "    else:\n",
    "        # Player 2 places ships\n",
    "        with boards:\n",
    "            display_boards(player_2_name, radar_lst_p2, sea_lst_p2)\n",
    "        place_boats(player_2_name, radar_lst_p2, sea_lst_p2, player_2_boat_coords)\n",
    "        new_turn(player_1_name)\n",
    "        # Player 1 places ships\n",
    "        place_boats(player_1_name, radar_lst_p1, sea_lst_p1, player_1_boat_coords)\n",
    "        new_turn(player_2_name)\n",
    "\n",
    "# Taking turns to fire\n",
    "while not winning_condition():\n",
    "    if turn == player_1_name:\n",
    "    # Player 1 turn to fire\n",
    "        # Get index position of player guess\n",
    "        position = fire_shot(player_1_guesses)\n",
    "        # Check if player guess was a hit\n",
    "        flag = check_hit(sea_lst_p2, position)\n",
    "        # Update Player 1 radar and Player 2 sea with result of shot\n",
    "        update_board_combat(radar_lst_p1, sea_lst_p2, position, flag)\n",
    "        # Check if any of Player 2's ships sunk, update sunk_ships list \n",
    "        check_ship_status(sea_lst_p2, player_2_boat_coords, player_2_sunk_boats)\n",
    "        update_scoreboard()\n",
    "        # Check if winning condition fulfilled\n",
    "        if winning_condition():\n",
    "            final_result(winner)\n",
    "            break\n",
    "        # Display updated Player 1 boards\n",
    "        with boards:\n",
    "            clear_output()\n",
    "            display_boards(player_1_name, radar_lst_p1, sea_lst_p1)\n",
    "\n",
    "        # Call new_turn() to initiate change of turn\n",
    "        ready = \"\"\n",
    "        while ready != \"Y\":\n",
    "            ready = input(f\" Ready to pass to {player_2_name}? \").upper()\n",
    "        new_turn(player_2_name)\n",
    "\n",
    "    else:\n",
    "    # Player 2 turn to fire\n",
    "        # Get index position of player guess\n",
    "        position = fire_shot(player_2_guesses)\n",
    "        # Check if player guess was a hit\n",
    "        flag = check_hit(sea_lst_p1, position)\n",
    "        # Update Player 2 radar and Player 1 sea with result of shot\n",
    "        update_board_combat(radar_lst_p2, sea_lst_p1, position, flag)\n",
    "        # Check if any of Player 1's ships sunk, update sunk_ships list \n",
    "        check_ship_status(sea_lst_p1, player_1_boat_coords, player_1_sunk_boats)\n",
    "        update_scoreboard()\n",
    "        # Check if winning condition fulfilled\n",
    "        if winning_condition():\n",
    "            final_result(winner)\n",
    "            break\n",
    "        # Display updated Player 2 boards\n",
    "        with boards:\n",
    "            clear_output()\n",
    "            display_boards(player_2_name, radar_lst_p2, sea_lst_p2)\n",
    "\n",
    "        # Call new_turn() to initiate change of turn\n",
    "        ready = \"\"\n",
    "        while ready != \"Y\":\n",
    "            ready = input(f\" Ready to pass to {player_1_name}? \").upper()\n",
    "        new_turn(player_1_name)\n",
    "\n",
    "        \n",
    "# display(replay_dropdown)"
   ]
  },
  {
   "cell_type": "code",
   "execution_count": 68,
   "id": "b6468b79",
   "metadata": {},
   "outputs": [],
   "source": [
    "# manage(clear) text output\n",
    "    # user inputs in comboboxes\n",
    "    # comboboxes in footer?\n",
    "    # enforce_coord - check whether to use getpass or input?\n",
    "\n",
    "# replay function    \n",
    "\n",
    "# None under grids?\n",
    "\n",
    "\n"
   ]
  },
  {
   "cell_type": "code",
   "execution_count": null,
   "id": "3393a66c",
   "metadata": {},
   "outputs": [],
   "source": []
  },
  {
   "cell_type": "code",
   "execution_count": 380,
   "id": "1a4efaa3",
   "metadata": {},
   "outputs": [],
   "source": [
    "def replay():\n",
    "    \"\"\"Asks players if they want to play again. If 'Yes', restarts game. If 'No', exits program.\"\"\"\n",
    "    if change['new'] == \"Yes\":\n",
    "        print(\"True\")\n",
    "        return True\n",
    "    else:\n",
    "        print(\"False\")\n",
    "        return False"
   ]
  },
  {
   "cell_type": "code",
   "execution_count": 383,
   "id": "afb6ee6d",
   "metadata": {
    "scrolled": true
   },
   "outputs": [
    {
     "data": {
      "application/vnd.jupyter.widget-view+json": {
       "model_id": "d7db6d521c634e1ba8d0a16bfe9b4300",
       "version_major": 2,
       "version_minor": 0
      },
      "text/plain": [
       "Dropdown(description='Replay? ', options=('', 'Yes', 'No'), value='')"
      ]
     },
     "metadata": {},
     "output_type": "display_data"
    },
    {
     "data": {
      "application/vnd.jupyter.widget-view+json": {
       "model_id": "f0d77bb2b1bb402499032ee2a7d81fef",
       "version_major": 2,
       "version_minor": 0
      },
      "text/plain": [
       "Output()"
      ]
     },
     "metadata": {},
     "output_type": "display_data"
    }
   ],
   "source": [
    "output3 = widgets.Output()\n",
    "\n",
    "def replay_change(change):\n",
    "    with output3:\n",
    "        print(change['new'])\n",
    "\n",
    "display(replay_dropdown, output3)\n",
    "\n",
    "replay_dropdown.observe(replay_change, names='value')"
   ]
  },
  {
   "cell_type": "code",
   "execution_count": 384,
   "id": "be92929c",
   "metadata": {},
   "outputs": [
    {
     "data": {
      "application/vnd.jupyter.widget-view+json": {
       "model_id": "517ee119081e472abebb9af6f371494b",
       "version_major": 2,
       "version_minor": 0
      },
      "text/plain": [
       "IntSlider(value=0)"
      ]
     },
     "metadata": {},
     "output_type": "display_data"
    },
    {
     "data": {
      "application/vnd.jupyter.widget-view+json": {
       "model_id": "7b99a44be1dd459f88e2c32c7e8180fb",
       "version_major": 2,
       "version_minor": 0
      },
      "text/plain": [
       "Output()"
      ]
     },
     "metadata": {},
     "output_type": "display_data"
    }
   ],
   "source": [
    "int_range = widgets.IntSlider()\n",
    "output2 = widgets.Output()\n",
    "\n",
    "display(int_range, output2)\n",
    "\n",
    "def on_value_change(change):\n",
    "    with output2:\n",
    "        print(change['new'])\n",
    "\n",
    "int_range.observe(on_value_change, names='value')"
   ]
  },
  {
   "cell_type": "code",
   "execution_count": 289,
   "id": "f809667d",
   "metadata": {},
   "outputs": [
    {
     "name": "stdout",
     "output_type": "stream",
     "text": [
      "\n",
      "Test: Help\n"
     ]
    }
   ],
   "source": [
    "tester = widgets.Output()\n",
    "\n",
    "with tester:\n",
    "    input(\"\\rTest: \")\n",
    "    \n",
    "with tester:\n",
    "    "
   ]
  },
  {
   "cell_type": "code",
   "execution_count": 250,
   "id": "9faedb34",
   "metadata": {},
   "outputs": [
    {
     "name": "stdout",
     "output_type": "stream",
     "text": [
      "And again: Is it still there?\n"
     ]
    },
    {
     "data": {
      "text/plain": [
       "'Is it still there?'"
      ]
     },
     "execution_count": 250,
     "metadata": {},
     "output_type": "execute_result"
    }
   ],
   "source": [
    "print(\"Important\")\n",
    "input(\"This is a test: \")\n",
    "clear_output(wait=True)\n",
    "input(\"And again: \")"
   ]
  },
  {
   "cell_type": "code",
   "execution_count": 224,
   "id": "ac69a2aa",
   "metadata": {},
   "outputs": [
    {
     "name": "stdout",
     "output_type": "stream",
     "text": [
      "This is important info!\n",
      "Something bad happened on run 50.  This needs to be visible at the end!\n",
      "Done.ssing BIG data file 99\n"
     ]
    }
   ],
   "source": [
    "import time\n",
    "print('This is important info!')\n",
    "for i in range(100):\n",
    "    print(\"\\r\"+'Processing BIG data file {}'.format(i),end=\"\")\n",
    "    time.sleep(0.1)\n",
    "    if i == 50:\n",
    "        print(\"\\r\"+'Something bad happened on run {}.  This needs to be visible at the end!'.format(i))\n",
    "print(\"\\r\"+'Done.')inpu"
   ]
  },
  {
   "cell_type": "code",
   "execution_count": 232,
   "id": "bb1d2275",
   "metadata": {},
   "outputs": [
    {
     "name": "stdout",
     "output_type": "stream",
     "text": [
      "XXXX\r",
      "YYYY\n"
     ]
    }
   ],
   "source": [
    "print(\"XXXX\", end=\"\\r\")\n",
    "print(\"YYYY\")"
   ]
  },
  {
   "cell_type": "code",
   "execution_count": 246,
   "id": "53e9ebc7",
   "metadata": {},
   "outputs": [],
   "source": [
    "from IPython.utils import io\n",
    "with io.capture_output() as captured:\n",
    "    pass"
   ]
  }
 ],
 "metadata": {
  "kernelspec": {
   "display_name": "Python 3 (ipykernel)",
   "language": "python",
   "name": "python3"
  },
  "language_info": {
   "codemirror_mode": {
    "name": "ipython",
    "version": 3
   },
   "file_extension": ".py",
   "mimetype": "text/x-python",
   "name": "python",
   "nbconvert_exporter": "python",
   "pygments_lexer": "ipython3",
   "version": "3.11.5"
  }
 },
 "nbformat": 4,
 "nbformat_minor": 5
}

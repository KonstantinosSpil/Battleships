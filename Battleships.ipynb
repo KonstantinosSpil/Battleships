{
 "cells": [
  {
   "cell_type": "markdown",
   "id": "f5a4ce30",
   "metadata": {},
   "source": [
    "# Battleships"
   ]
  },
  {
   "cell_type": "markdown",
   "id": "b84449e0",
   "metadata": {},
   "source": [
    "## Planning"
   ]
  },
  {
   "cell_type": "markdown",
   "id": "15ef5a51",
   "metadata": {},
   "source": [
    "- standard version & extended version (if we have time)\n",
    "    - standard\n",
    "        - normal rules\n",
    "        - 2 human players\n",
    "        - basic display (jupyter output)\n",
    "    - extended\n",
    "        - graphics display (turtle?)\n",
    "        - hard mode (\"Salvo\")\n",
    "        - computer player\n",
    "            - random guess\n",
    "            - if last guess == hit, random guess within closer range...\n",
    "        - different size board\n",
    "        - different size ships(?)\n"
   ]
  },
  {
   "cell_type": "markdown",
   "id": "e3df0e45",
   "metadata": {},
   "source": [
    "Standard:\n",
    "\n",
    "- board\n",
    "    - 10x10\n",
    "    - 4 boards (player_1_sea, player_1_radar, player_2_sea, player_2_radar)\n",
    "\n",
    "- ships\n",
    "    - number/size has to make sense for the board dimensions\n",
    "    - standard:\n",
    "        - Carrier (5)\n",
    "        - Battelship (4)\n",
    "        - Cruiser (3)\n",
    "        - Submarine (3)\n",
    "        - Destroyer (2)\n",
    "\n",
    "- turn\n",
    "    - guess one coordinate on board\n",
    "        - outputs result (miss / hit + ship if hit)\n",
    "            - sunk if ship gone\n",
    "        - displays new board (updated pegs)\n",
    "\n",
    "- display\n",
    "    - can only see your board"
   ]
  },
  {
   "cell_type": "markdown",
   "id": "252c02fc",
   "metadata": {},
   "source": [
    "Functions:\n",
    "\n",
    "- display_board\n",
    "    - input lists\n",
    "    - output (print) sea and radar\n",
    "\n",
    "- player_names\n",
    "    - input string\n",
    "\n",
    "- place_ships\n",
    "    - choose ship\n",
    "    - choose starting coordinate\n",
    "    - choose direction (udlr)\n",
    "    - calls check_space_free (iterates for all coords in selection)\n",
    "    - updates ship variables\n",
    "\n",
    "- update board\n",
    "\n",
    "- check_space_free\n",
    "\n",
    "- choose_first_player\n",
    "    - random (0, 1)\n",
    "\n",
    "- fire_shot\n",
    "    - choose location to fire at\n",
    "    - update board/list\n",
    "\n",
    "- check_hit\n",
    "    - returns result of shot\n",
    "    - update ship count\n",
    "\n",
    "- check_ship_status\n",
    "    - checks if \n",
    "\n",
    "- save_shot\n",
    "    - remove available firing locations\n",
    "    - decide whether can play in same square again\n",
    "\n",
    "- ready_for_turn\n",
    "    - when turn ended, hide board\n",
    "    - ask if ready\n",
    "    - when ready, show other player board\n",
    "\n",
    "- winning_condition\n",
    "    - ship count == 0\n",
    "\n",
    "- replay"
   ]
  },
  {
   "cell_type": "markdown",
   "id": "95ef7483",
   "metadata": {},
   "source": [
    "Game Logic\n",
    "\n",
    "- initiate empty board\n",
    "- ask for player names\n",
    "- decide who goes first\n",
    "\n",
    "- player 1 places ships\n",
    "    - display_board per ship placed\n",
    "    - ready_for_turn\n",
    "- player 2 places ships\n",
    "    - display_board per ship placed\n",
    "    - ready_for_turn\n",
    "\n",
    "- while not winning_condition:\n",
    "    - player 1 fire_shot\n",
    "        - display board\n",
    "        - (update board)\n",
    "        - check_hit\n",
    "        - check_ship_status\n",
    "        - check winning_condition\n",
    "        - display board\n",
    "        - ready_for_turn\n",
    "    - player 2 fire_shot (same logic as player 1)\n",
    "\n",
    "- display result\n",
    "    - display both boards (?)\n",
    "\n",
    "- ask for replay"
   ]
  },
  {
   "cell_type": "markdown",
   "id": "8a3a78f6",
   "metadata": {},
   "source": [
    "## Functions"
   ]
  },
  {
   "cell_type": "code",
   "execution_count": 188,
   "id": "26e809cc-9def-44e4-8cf9-a76b06e429ce",
   "metadata": {},
   "outputs": [],
   "source": [
    "# Library imports\n",
    "import random\n",
    "from IPython.display import clear_output\n",
    "import ipywidgets as widgets"
   ]
  },
  {
   "cell_type": "code",
   "execution_count": 191,
   "id": "5ee56d57",
   "metadata": {},
   "outputs": [],
   "source": [
    "# Initial variables\n",
    "\n",
    "letters = [\"A\",\"B\",\"C\",\"D\",\"E\",\"F\",\"G\",\"H\",\"I\",\"J\"]\n",
    "\n",
    "# Radar squares\n",
    "radar_empty = \"   \"\n",
    "radar_boats = [\" D \", \" C \", \" S \", \" B \", \" A \"]\n",
    "radar_hit = \" x \"\n",
    "radar_miss = \" o \"\n",
    "\n",
    "# Sea squares\n",
    "sea_empty = \"~~~\"\n",
    "sea_boats = [\"~D~\", \"~C~\", \"~S~\", \"~B~\", \"~A~\"]\n",
    "sea_hit = \"~x~\"\n",
    "sea_miss = \"~o~\"\n",
    "\n",
    "# Boat types\n",
    "boat_types = {\"Aircraft carrier (A)\" : (5, \"~A~\"), \n",
    "              \"Battleship (B)\" : (4, \"~B~\"), \n",
    "              \"Submarine (S)\" : (3, \"~S~\"), \n",
    "              \"Cruiser (C)\" : (3, \"~C~\"), \n",
    "              \"Destroyer (D)\" : (2, \"~D~\")}\n",
    "\n",
    "# Lists of player boat locations\n",
    "player_1_boats = []\n",
    "player_2_boats = []\n",
    "\n",
    "# To be included in game logic?\n",
    "sea_lst_p1 = [sea_empty] * 101  \n",
    "radar_lst_p1 = [radar_empty] * 101\n",
    "sea_lst_p2 = [sea_empty] * 101  \n",
    "radar_lst_p2 = [radar_empty] * 101\n",
    "\n",
    "# Lists of past guesses\n",
    "player_1_guesses = []\n",
    "player_2_guesses = []"
   ]
  },
  {
   "cell_type": "code",
   "execution_count": 72,
   "id": "9c658aaf",
   "metadata": {},
   "outputs": [
    {
     "name": "stdout",
     "output_type": "stream",
     "text": [
      "type your name:Danielle\n",
      "type your name:is the best\n"
     ]
    },
    {
     "data": {
      "text/plain": [
       "('Danielle', 'is the best')"
      ]
     },
     "execution_count": 72,
     "metadata": {},
     "output_type": "execute_result"
    }
   ],
   "source": [
    "player_names()"
   ]
  },
  {
   "cell_type": "code",
   "execution_count": 190,
   "id": "5cfb81d7-047a-445b-bd48-103ed182f5e2",
   "metadata": {},
   "outputs": [],
   "source": [
    "def player_names():\n",
    "    \"\"\"Asks for the names of Players 1 and 2 and returns both in a tuple.\"\"\"\n",
    "    player_1 = input(\"type your name:\")\n",
    "    player_2 = input(\"type your name:\")\n",
    "    return player_1, player_2\n",
    "\n",
    "def choose_first_player():\n",
    "    \"\"\"Randomly selects which player has the first turn. Returns 'p1' or 'p2'.\"\"\"\n",
    "    if random.randint(0,1) == 0:\n",
    "        return \"p1\"\n",
    "    else:\n",
    "        return \"p2\"\n",
    "\n",
    "def display_boards(radar_lst, sea_lst):\n",
    "    \"\"\"Prints the radar_lst and sea_lst lists in the format of Battleships boards, with the letters list\n",
    "    denoting the rows.\"\"\"\n",
    "    \n",
    "    clear_output()\n",
    "    \n",
    "    print(\"Radar zone\\n\")\n",
    "    print(\"     1   2   3   4   5   6   7   8   9   10\")\n",
    "    for index, i in enumerate(radar_lst):\n",
    "        if index == 0:\n",
    "            pass\n",
    "        elif index % 10 == 1:\n",
    "            letter = letters[index//10]\n",
    "            print(f\"{letter}: |{i}\", end = \"\")\n",
    "        elif index % 10 == 0:\n",
    "            print(f\"|{i}|\")\n",
    "        else:\n",
    "            print(f\"|{i}\", end = \"\")\n",
    "            \n",
    "    print(\"\\nSea zone\\n\")\n",
    "    print(\"     1   2   3   4   5   6   7   8   9   10\")\n",
    "    for index, i in enumerate(sea_lst):\n",
    "        if index == 0:\n",
    "            pass\n",
    "        elif index % 10 == 1:\n",
    "            letter = letters[index//10]\n",
    "            print(f\"{letter}: |{i}\", end = \"\")\n",
    "        elif index % 10 == 0:\n",
    "            print(f\"|{i}|\")\n",
    "        else:\n",
    "            print(f\"|{i}\", end = \"\")"
   ]
  },
  {
   "cell_type": "code",
   "execution_count": 57,
   "id": "89d262fa",
   "metadata": {},
   "outputs": [
    {
     "name": "stdout",
     "output_type": "stream",
     "text": [
      "Radar zone\n",
      "\n",
      "     1   2   3   4   5   6   7   8   9   10\n",
      "A: |   |   |   |   |   |   |   |   |   |   |\n",
      "B: |   |   |   |   |   |   |   |   |   |   |\n",
      "C: |   |   |   |   |   |   |   |   |   |   |\n",
      "D: |   |   |   |   |   |   |   |   |   |   |\n",
      "E: |   |   |   |   |   |   |   |   |   |   |\n",
      "F: |   |   |   |   |   |   |   |   |   |   |\n",
      "G: |   |   |   |   |   |   |   |   |   |   |\n",
      "H: |   |   |   |   |   |   |   |   |   |   |\n",
      "I: |   |   |   |   |   |   |   |   |   |   |\n",
      "J: |   |   |   |   |   |   |   |   |   |   |\n",
      "\n",
      "Sea zone\n",
      "\n",
      "     1   2   3   4   5   6   7   8   9   10\n",
      "A: |~~~|~~~|~~~|~~~|~~~|~~~|~~~|~~~|~~~|~~~|\n",
      "B: |~~~|~~~|~~~|~~~|~~~|~~~|~~~|~~~|~~~|~~~|\n",
      "C: |~~~|~~~|~~~|~~~|~~~|~~~|~~~|~~~|~~~|~~~|\n",
      "D: |~~~|~~~|~~~|~~~|~~~|~~~|~~~|~~~|~~~|~~~|\n",
      "E: |~~~|~~~|~~~|~~~|~~~|~~~|~~~|~~~|~~~|~~~|\n",
      "F: |~~~|~B~|~~~|~~~|~~~|~~~|~~~|~~~|~~~|~~~|\n",
      "G: |~~~|~B~|~~~|~~~|~~~|~~~|~~~|~~~|~~~|~~~|\n",
      "H: |~~~|~B~|~~~|~~~|~~~|~~~|~~~|~~~|~~~|~~~|\n",
      "I: |~~~|~B~|~~~|~~~|~~~|~~~|~~~|~~~|~~~|~~~|\n",
      "J: |~~~|~~~|~~~|~~~|~~~|~~~|~~~|~~~|~~~|~~~|\n"
     ]
    }
   ],
   "source": [
    "practice = sea_lst_p1\n",
    "practice[52] = sea_boats[3]\n",
    "practice[62] = sea_boats[3]\n",
    "practice[72] = sea_boats[3]\n",
    "practice[82] = sea_boats[3]\n",
    "\n",
    "display_boards(radar_lst_p1, practice, letters)"
   ]
  },
  {
   "cell_type": "code",
   "execution_count": 180,
   "id": "9acd83c4",
   "metadata": {},
   "outputs": [],
   "source": [
    "def update_board_placement(sea_lst, boat_coords, symbol):\n",
    "    \"\"\"Updates the board after the placement of a boat, taking a list of boat_coords as input.\"\"\"\n",
    "    for coord in boat_coords:\n",
    "        sea_lst[coord] = symbol"
   ]
  },
  {
   "cell_type": "code",
   "execution_count": 153,
   "id": "fcbf8716",
   "metadata": {},
   "outputs": [],
   "source": [
    "def update_board_combat(radar_lst, sea_lst, position, flag):\n",
    "    \"\"\"Taking the position and flag results from a turn, this function updates the radar_lst and \n",
    "    sea_lst lists that make up the board.\"\"\"\n",
    "    radar_lst[position] = flag\n",
    "    sea_lst[position] = flag"
   ]
  },
  {
   "cell_type": "code",
   "execution_count": 126,
   "id": "e3f650c7",
   "metadata": {},
   "outputs": [],
   "source": [
    "def enforce_player_coord(coord):\n",
    "    \"\"\"Ensures a player coordinate input is in the valid 'A1' - 'J10' format. Returns coord once in the correct format.\"\"\"\n",
    "    # Ensure second item in coord is a number\n",
    "    try:\n",
    "        int(coord[1])\n",
    "    except (ValueError, IndexError):\n",
    "        coord = input(\"Enter coordinates (in the format 'A1'): \").upper()\n",
    "\n",
    "    # Ensure coord is 2-3 characters long (and ends in '10') if 3 characters, starts with a letter in letters and\n",
    "    # ends in a number 1-10\n",
    "    while len(coord) > 3 or len(coord) < 2 or \\\n",
    "    (len(coord) == 3 and coord[1:3] != \"10\") or \\\n",
    "    coord[0] not in letters or int(coord[1]) not in range(1, 9):\n",
    "        coord = input(\"Enter coordinates (in the format 'A1'): \").upper()\n",
    "     \n",
    "    return coord.upper()"
   ]
  },
  {
   "cell_type": "code",
   "execution_count": 27,
   "id": "cb649ff2",
   "metadata": {},
   "outputs": [],
   "source": [
    "def fire_shot(player_guesses, letters):\n",
    "    \"\"\"Calls enforce_player_coord() to prompt player to enter a guess and enforce validity.\n",
    "    If coordinates have been guessed by the player already, asks for another guess.\n",
    "    If the guess is valid, adds the guess to player_guesses and returns the \n",
    "    list index ('position') of the player guess.\"\"\"\n",
    "    \n",
    "    guess = \"\"\n",
    "    guess = enforce_player_coord(guess)\n",
    "    \n",
    "    # Checks if guess has already been guessed in a previous turn\n",
    "    while guess in player_guesses:\n",
    "        print(\"Coordinates already guessed!\")\n",
    "        guess = input(\"Enter coordinates (in the format 'A1'): \").upper() \n",
    "    \n",
    "    player_guesses.append(guess) # adds guess to guess history\n",
    "    position = letters.index(guess[0]) * 10 + int(guess[1:])\n",
    "    return position"
   ]
  },
  {
   "cell_type": "code",
   "execution_count": 89,
   "id": "a7d44427",
   "metadata": {},
   "outputs": [
    {
     "name": "stdout",
     "output_type": "stream",
     "text": [
      "Enter coordinates (in the format 'A1'): D1\n",
      "['A5', 'G6', 'D1']\n",
      "31\n"
     ]
    }
   ],
   "source": [
    "test_guesses = [\"A5\", \"G6\"]\n",
    "\n",
    "position = fire_shot(test_guesses, letters)\n",
    "\n",
    "print(test_guesses)\n",
    "print(position)"
   ]
  },
  {
   "cell_type": "code",
   "execution_count": 185,
   "id": "aae9f674",
   "metadata": {},
   "outputs": [],
   "source": [
    "def check_space_free(sea_lst, start_coord, direction, length):\n",
    "    \"\"\"Checks if all required spaces for boat placement are free and in range.\n",
    "    Returns coordinates if valid, otherwise returns False.\"\"\"\n",
    "    \n",
    "    # use length of boat and direction to find all coords it will cover\n",
    "    # if any of those coords are not sea empty, return False\n",
    "        # also handle out of range issues\n",
    "    # else return coords\n",
    "    \n",
    "    boat_coords = [start_coord]\n",
    "    \n",
    "    if direction in [\"L\", \"R\"]:\n",
    "        d = 1\n",
    "        if direction == \"L\":\n",
    "            d = -1\n",
    "        for i in range(1, length):\n",
    "            next_coord = start_coord + (i * d)\n",
    "            if (next_coord - 1) // 10 != start_coord // 10:\n",
    "                return False\n",
    "            elif sea_lst[next_coord] != sea_empty:\n",
    "#                 return \"Sea already occupied here\"\n",
    "                return False\n",
    "            else:\n",
    "                boat_coords.append(next_coord)\n",
    "        return boat_coords\n",
    "    \n",
    "    elif direction in [\"U\", \"D\"]:\n",
    "        d = 1\n",
    "        if direction == \"U\":\n",
    "            d = -1\n",
    "        for i in range(1, length):\n",
    "            next_coord = start_coord + (i * 10 * d)\n",
    "            if next_coord not in range(1, 101):\n",
    "#                 return \"Ship outside board\"\n",
    "                return False\n",
    "            elif sea_lst[next_coord] != sea_empty:\n",
    "#                 return \"Sea already occupied here\"\n",
    "                return False\n",
    "            else:\n",
    "                boat_coords.append(next_coord)\n",
    "        return boat_coords\n",
    "    \n",
    "    else:\n",
    "        return False"
   ]
  },
  {
   "cell_type": "code",
   "execution_count": 146,
   "id": "8f0782d1",
   "metadata": {},
   "outputs": [],
   "source": [
    "def coord_string_to_digit(coord):\n",
    "    return letters.index(coord[0]) * 10 + int(coord[1:])"
   ]
  },
  {
   "cell_type": "code",
   "execution_count": 182,
   "id": "9b759ec8",
   "metadata": {},
   "outputs": [],
   "source": [
    "def place_boats(radar_lst, sea_lst, player_boats):\n",
    "    \"\"\"Prompts user to place boats in descending order of length, by entering starting co-ordinate and direction.\n",
    "    Calls check_space_free() to ensure boat placement is valid - if not, prompts user to place boat elsewhere.\n",
    "    Saves placed boats in player_boats list.\"\"\"\n",
    "    \n",
    "    for boat, data in boat_types.items():\n",
    "        length, symbol = data\n",
    "        coords = \"\"\n",
    "        while not coords:            \n",
    "            start_coord = coord_string_to_digit(enforce_player_coord(input(f\"Enter start coordinate for {boat}: \")))\n",
    "            direction = \"\"\n",
    "            while direction not in [\"U\",\"D\",\"L\",\"R\"]:\n",
    "                direction = input(\"Choose direction (U/D/L/R): \").upper()\n",
    "            coords = check_space_free(sea_lst, start_coord, direction, length)\n",
    "        player_boats.append(coords)\n",
    "        update_board_placement(sea_lst, coords, symbol)\n",
    "        display_boards(radar_lst, sea_lst)"
   ]
  },
  {
   "cell_type": "code",
   "execution_count": 192,
   "id": "3a70eee9",
   "metadata": {},
   "outputs": [
    {
     "name": "stdout",
     "output_type": "stream",
     "text": [
      "Radar zone\n",
      "\n",
      "     1   2   3   4   5   6   7   8   9   10\n",
      "A: |   |   |   |   |   |   |   |   |   |   |\n",
      "B: |   |   |   |   |   |   |   |   |   |   |\n",
      "C: |   |   |   |   |   |   |   |   |   |   |\n",
      "D: |   |   |   |   |   |   |   |   |   |   |\n",
      "E: |   |   |   |   |   |   |   |   |   |   |\n",
      "F: |   |   |   |   |   |   |   |   |   |   |\n",
      "G: |   |   |   |   |   |   |   |   |   |   |\n",
      "H: |   |   |   |   |   |   |   |   |   |   |\n",
      "I: |   |   |   |   |   |   |   |   |   |   |\n",
      "J: |   |   |   |   |   |   |   |   |   |   |\n",
      "\n",
      "Sea zone\n",
      "\n",
      "     1   2   3   4   5   6   7   8   9   10\n",
      "A: |~~~|~~~|~B~|~B~|~B~|~B~|~~~|~~~|~~~|~~~|\n",
      "B: |~~~|~~~|~~~|~~~|~~~|~~~|~~~|~~~|~~~|~~~|\n",
      "C: |~S~|~~~|~~~|~~~|~~~|~~~|~~~|~~~|~~~|~~~|\n",
      "D: |~S~|~~~|~~~|~~~|~~~|~~~|~~~|~~~|~~~|~~~|\n",
      "E: |~S~|~~~|~~~|~~~|~~~|~~~|~~~|~~~|~~~|~~~|\n",
      "F: |~~~|~~~|~~~|~~~|~~~|~~~|~~~|~A~|~~~|~~~|\n",
      "G: |~~~|~~~|~~~|~D~|~D~|~~~|~~~|~A~|~~~|~~~|\n",
      "H: |~C~|~~~|~~~|~~~|~~~|~~~|~~~|~A~|~~~|~~~|\n",
      "I: |~C~|~~~|~~~|~~~|~~~|~~~|~~~|~A~|~~~|~~~|\n",
      "J: |~C~|~~~|~~~|~~~|~~~|~~~|~~~|~A~|~~~|~~~|\n"
     ]
    }
   ],
   "source": [
    "test_player_boats = []\n",
    "\n",
    "place_boats(radar_lst_p1, sea_lst_p1, test_player_boats)"
   ]
  },
  {
   "cell_type": "code",
   "execution_count": 58,
   "id": "fa125330",
   "metadata": {},
   "outputs": [],
   "source": [
    "def check_hit(sea_lst, position):\n",
    "    \"\"\"Takes player guess position and returns True if that position in sea_lst was a boat.\"\"\"\n",
    "    print(sea_lst[position])\n",
    "    if sea_lst[position] in sea_boats:\n",
    "        return True       \n",
    "    else:\n",
    "        return False    "
   ]
  },
  {
   "cell_type": "code",
   "execution_count": 196,
   "id": "26ea472d",
   "metadata": {},
   "outputs": [
    {
     "name": "stdout",
     "output_type": "stream",
     "text": [
      "~S~\n"
     ]
    },
    {
     "data": {
      "text/plain": [
       "True"
      ]
     },
     "execution_count": 196,
     "metadata": {},
     "output_type": "execute_result"
    }
   ],
   "source": [
    "test_guess = 21\n",
    "\n",
    "check_hit(sea_lst_p1, test_guess)"
   ]
  },
  {
   "cell_type": "code",
   "execution_count": 18,
   "id": "aa861d50",
   "metadata": {},
   "outputs": [],
   "source": [
    "def check_ship_status():\n",
    "    \"\"\"Checks which ships are destroyed and updates ship count.\"\"\"\n",
    "    pass\n",
    "\n",
    "# Have running score on side?"
   ]
  },
  {
   "cell_type": "code",
   "execution_count": 19,
   "id": "ee59b243",
   "metadata": {},
   "outputs": [],
   "source": [
    "def winning_condition():\n",
    "    \"\"\"Returns true if either player has 0 ships remaining.\"\"\"\n",
    "    pass"
   ]
  },
  {
   "cell_type": "code",
   "execution_count": 20,
   "id": "23509d94",
   "metadata": {},
   "outputs": [],
   "source": [
    "def new_turn():\n",
    "    \"\"\"When turn ended (i.e. function is called), hides the previous player's board and asks next player if they are ready.\n",
    "    Once second player is ready, sets turn to their go and displays their board.\"\"\"\n",
    "    pass"
   ]
  },
  {
   "cell_type": "code",
   "execution_count": 21,
   "id": "37038b20",
   "metadata": {},
   "outputs": [],
   "source": [
    "def final_result():\n",
    "    \"\"\"Displays both boards at the end of the game.\"\"\"\n",
    "    pass"
   ]
  },
  {
   "cell_type": "code",
   "execution_count": 22,
   "id": "0fa04306",
   "metadata": {},
   "outputs": [],
   "source": [
    "def replay():\n",
    "    \"\"\"Asks players if they want to play again. If 'Yes', restarts game. If 'No', exits program.\"\"\"\n",
    "    pass"
   ]
  },
  {
   "cell_type": "code",
   "execution_count": null,
   "id": "baced1de",
   "metadata": {},
   "outputs": [],
   "source": []
  },
  {
   "cell_type": "code",
   "execution_count": 23,
   "id": "04c0717b-69db-4e11-a7c8-111c6cc822b7",
   "metadata": {},
   "outputs": [
    {
     "name": "stdout",
     "output_type": "stream",
     "text": [
      "🛥\n",
      "⛴\n",
      "💥\n"
     ]
    }
   ],
   "source": [
    "print(\"\\U0001F6E5\")\n",
    "print(\"\\U000026F4\")\n",
    "print(\"\\U0001F4A5\")"
   ]
  }
 ],
 "metadata": {
  "kernelspec": {
   "display_name": "Python 3 (ipykernel)",
   "language": "python",
   "name": "python3"
  },
  "language_info": {
   "codemirror_mode": {
    "name": "ipython",
    "version": 3
   },
   "file_extension": ".py",
   "mimetype": "text/x-python",
   "name": "python",
   "nbconvert_exporter": "python",
   "pygments_lexer": "ipython3",
   "version": "3.11.5"
  }
 },
 "nbformat": 4,
 "nbformat_minor": 5
}
